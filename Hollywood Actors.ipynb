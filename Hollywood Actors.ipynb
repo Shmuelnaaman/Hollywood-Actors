{
 "cells": [
  {
   "cell_type": "markdown",
   "metadata": {},
   "source": [
    "# Hollywood Actors \n",
    "###  Can we predict if an actor won the Oscar based on the career article in Wikipedia?\n",
    "\n",
    "Shmuel Naaman "
   ]
  },
  {
   "cell_type": "markdown",
   "metadata": {},
   "source": [
    "### Introduction:\n",
    "Based on your request I analyze the \"Holywood Actors\" articles in Wikipedia. I choose to use the list of actors that appears on 'Hollywood Walk of Fame motion picture stars'. This is not a complete list of actors but it represents significant actors in the Hollywood industry. The list includes around 900 actors 200 of them were nominated to Oscar and another 200 won an Oscar. \n",
    "\n",
    "I thought that building a model that classify actors that won the Oscar, nominated to Oscar and did not win the oscar will demonstrate some of my skills in data processing and modeling. \n",
    "\n",
    "Due to obviously limited time, I focus my efforts on efficient preprocessing that will enhance the signal. \n",
    " * I perform basic cleaning of the data \n",
    " * Used nltk sentence tokenizer as an input to create stem words.\n",
    " * Remove stop words\n",
    " * Perform word embedding as part of the deep neural network. \n",
    " * I choose to use an artificial recurrent neural network (RNN) architecture of the type Long short-term memory (LSTM). LSTM networks are well-suited to classifying, processing and making predictions based on time series data.\n",
    " \n",
    "These steps allow me to reduce the dimension of the problem, and work with relatively clean data. Which is particularly important for this data set which is quite small. "
   ]
  },
  {
   "cell_type": "markdown",
   "metadata": {},
   "source": [
    "### importing libraries"
   ]
  },
  {
   "cell_type": "code",
   "execution_count": 1,
   "metadata": {
    "scrolled": true
   },
   "outputs": [],
   "source": [
    "import re\n",
    "import nltk\n",
    "import wikipediaapi\n",
    "import pandas as pd\n",
    "import wikipedia as wp\n",
    "import tensorflow as tf \n",
    "from collections import Counter\n",
    "from nltk import word_tokenize, pos_tag\n",
    "from nltk.tokenize import sent_tokenize\n",
    "from nltk.stem import WordNetLemmatizer\n",
    "from nltk.corpus import stopwords, wordnet\n",
    "  "
   ]
  },
  {
   "cell_type": "markdown",
   "metadata": {},
   "source": [
    "## Utils\n",
    "Optimally these functions would be in a separate file. However, since they include important steps of the analysis I decided to present them here with the rest of the analysis. \n"
   ]
  },
  {
   "cell_type": "markdown",
   "metadata": {},
   "source": [
    "### Clean the data\n",
    " * Replace punctuation with tokens so we can use them in our model \n",
    " * Remove the word 'Oscar' from the article\n",
    " * Remove the words 'section' and 'Career' since they are related with the articale and not the actor\n",
    "There are many other preprocessing that worth considering here for example the work 'nomination' \n",
    " "
   ]
  },
  {
   "cell_type": "code",
   "execution_count": 2,
   "metadata": {},
   "outputs": [],
   "source": [
    "\n",
    "def preprocess(text):\n",
    "    # Replace punctuation with tokens so we can use them in our model \n",
    "    # We remove the word 'Oscar' from the article\n",
    "    # We did remove the words 'section' and 'Career' since they are related with the articale and not the actor\n",
    "    # There are many other preprocessing that worth considering here for example the work 'nomination' \n",
    "    # We want to keep it simple and at the same time to demonstrate the analysis\n",
    "     \n",
    "    text = text.lower()\n",
    "    text = text.replace('.', ' <PERIOD> ')\n",
    "    text = text.replace(',', ' <COMMA> ')\n",
    "    text = text.replace('\"', ' <QUOTATION_MARK> ')\n",
    "    text = text.replace(';', ' <SEMICOLON> ')\n",
    "    text = text.replace('!', ' <EXCLAMATION_MARK> ')\n",
    "    text = text.replace('?', ' <QUESTION_MARK> ')\n",
    "    text = text.replace('(', ' <LEFT_PAREN> ')\n",
    "    text = text.replace(')', ' <RIGHT_PAREN> ')\n",
    "    text = text.replace('--', ' <HYPHENS> ')\n",
    "    text = text.replace('?', ' <QUESTION_MARK> ')\n",
    "    text = text.replace('\\n', ' ')\n",
    "    text = text.replace(':', ' ')\n",
    "    text = text.replace('career', ' ')\n",
    "    text = text.replace('oscar', ' ')\n",
    "    text = text.replace('sections', ' ')\n",
    "    text = text.replace('section', ' ')\n",
    "\n",
    "\n",
    "    return  text\n",
    " "
   ]
  },
  {
   "cell_type": "markdown",
   "metadata": {},
   "source": [
    "### Transform the words to roots\n",
    " Replace all words by the root words. \n",
    " * That will simplify the dataset by reducing the dimention of the data. \n",
    " * At the same time, considering the size of the data set, having all the variation of a key words as a single category might strength the signal.  \n",
    " "
   ]
  },
  {
   "cell_type": "code",
   "execution_count": 3,
   "metadata": {},
   "outputs": [
    {
     "name": "stdout",
     "output_type": "stream",
     "text": [
      "[nltk_data] Downloading package wordnet to C:\\Users\\Shmuel\n",
      "[nltk_data]     Naaman\\AppData\\Roaming\\nltk_data...\n",
      "[nltk_data]   Package wordnet is already up-to-date!\n",
      "[nltk_data] Downloading package stopwords to C:\\Users\\Shmuel\n",
      "[nltk_data]     Naaman\\AppData\\Roaming\\nltk_data...\n",
      "[nltk_data]   Package stopwords is already up-to-date!\n",
      "[nltk_data] Downloading package averaged_perceptron_tagger to\n",
      "[nltk_data]     C:\\Users\\Shmuel Naaman\\AppData\\Roaming\\nltk_data...\n",
      "[nltk_data]   Package averaged_perceptron_tagger is already up-to-\n",
      "[nltk_data]       date!\n",
      "[nltk_data] Downloading package maxent_treebank_pos_tagger to\n",
      "[nltk_data]     C:\\Users\\Shmuel Naaman\\AppData\\Roaming\\nltk_data...\n",
      "[nltk_data]   Package maxent_treebank_pos_tagger is already up-to-\n",
      "[nltk_data]       date!\n"
     ]
    }
   ],
   "source": [
    "\n",
    "# Import nltk resources\n",
    "resources = [\"wordnet\", \"stopwords\", \"punkt\", \\\n",
    "             \"averaged_perceptron_tagger\", \"maxent_treebank_pos_tagger\"]\n",
    "\n",
    "for resource in resources:\n",
    "    try:\n",
    "        nltk.data.find(\"tokenizers/\" + resource)\n",
    "    except LookupError:\n",
    "        nltk.download(resource)\n",
    "\n",
    "# Create Lemmatizer object\n",
    "lemma = WordNetLemmatizer()\n",
    "\n",
    "# Stem words\n",
    "def lemmatize_word(tagged_token):\n",
    "    \"\"\" Returns lemmatized word given its tag\"\"\"\n",
    "    root = []\n",
    "    for token in tagged_token:\n",
    "        tag = token[1][0]\n",
    "        word = token[0]\n",
    "        if tag.startswith('J'):\n",
    "            root.append(lemma.lemmatize(word, wordnet.ADJ))\n",
    "        elif tag.startswith('V'):\n",
    "            root.append(lemma.lemmatize(word, wordnet.VERB))\n",
    "        elif tag.startswith('N'):\n",
    "            root.append(lemma.lemmatize(word, wordnet.NOUN))\n",
    "        elif tag.startswith('R'):\n",
    "            root.append(lemma.lemmatize(word, wordnet.ADV))\n",
    "        else:          \n",
    "            root.append(word)\n",
    "    return root\n",
    "\n",
    "def lemmatize_doc(document):\n",
    "    \"\"\" Tags words then returns sentence with lemmatized words\"\"\"\n",
    "    lemmatized_list = []\n",
    "    # Break the paragraph into sentences\n",
    "    tokenized_sent = sent_tokenize(document)\n",
    "     \n",
    "    for sentence in tokenized_sent:\n",
    " \n",
    "        # Seperating sentences to words\n",
    "        tokenized_word = word_tokenize(sentence)\n",
    "         \n",
    "        # Identify nouns, verbs, adjectives, and adverbs.\n",
    "        tagged_token = pos_tag(tokenized_word)\n",
    "        \n",
    "        # Clasify to root word Text Normalization \"performing\" -> \"perform\"\n",
    "        lemmatized = lemmatize_word(tagged_token)\n",
    "        \n",
    "        # adding all the lists into a single list\n",
    "        lemmatized_list.extend(lemmatized)\n",
    " \n",
    "    return \" \".join(lemmatized_list)\n",
    "\n",
    " "
   ]
  },
  {
   "cell_type": "markdown",
   "metadata": {},
   "source": [
    "## Import list of Hollywood Actors names. \n",
    "Wikipedia: \"List of actors with Hollywood Walk of Fame motion picture stars\".\n",
    "\n",
    "I used the 'wikipedia' library which is awesome and save a lot of work. "
   ]
  },
  {
   "cell_type": "code",
   "execution_count": 4,
   "metadata": {},
   "outputs": [],
   "source": [
    "\n",
    "# Get the html source\n",
    "html = wp.page(\"List_of_actors_with_Hollywood_Walk_of_Fame_motion_picture_stars\").html().encode(\"UTF-8\")\n",
    "\n",
    " \n",
    "#  find the table element, does the parsing and creates a DataFrame\n",
    "df = pd.read_html(html)[1]\n",
    "\n",
    "# Replace the header with the first row\n",
    "new_header = df.iloc[0] \n",
    "df = df[1:]  \n",
    "df.columns = new_header \n",
    "\n",
    "# ading a column for the careere \n",
    "df['career']='a'"
   ]
  },
  {
   "cell_type": "markdown",
   "metadata": {},
   "source": [
    "### Data Overview "
   ]
  },
  {
   "cell_type": "code",
   "execution_count": 5,
   "metadata": {},
   "outputs": [
    {
     "name": "stdout",
     "output_type": "stream",
     "text": [
      "<class 'pandas.core.frame.DataFrame'>\n",
      "RangeIndex: 899 entries, 1 to 899\n",
      "Data columns (total 10 columns):\n",
      "Actor       899 non-null object\n",
      "nan         899 non-null object\n",
      "Born        899 non-null object\n",
      "Died        899 non-null object\n",
      "Age         899 non-null object\n",
      "Address     899 non-null object\n",
      "Inducted    899 non-null object\n",
      "At age      899 non-null object\n",
      "Oscar       899 non-null object\n",
      "career      899 non-null object\n",
      "dtypes: object(10)\n",
      "memory usage: 70.3+ KB\n"
     ]
    }
   ],
   "source": [
    "df.info()"
   ]
  },
  {
   "cell_type": "code",
   "execution_count": 6,
   "metadata": {},
   "outputs": [
    {
     "name": "stdout",
     "output_type": "stream",
     "text": [
      "Populating the interactive namespace from numpy and matplotlib\n"
     ]
    },
    {
     "data": {
      "text/html": [
       "<div>\n",
       "<style scoped>\n",
       "    .dataframe tbody tr th:only-of-type {\n",
       "        vertical-align: middle;\n",
       "    }\n",
       "\n",
       "    .dataframe tbody tr th {\n",
       "        vertical-align: top;\n",
       "    }\n",
       "\n",
       "    .dataframe thead th {\n",
       "        text-align: right;\n",
       "    }\n",
       "</style>\n",
       "<table border=\"1\" class=\"dataframe\">\n",
       "  <thead>\n",
       "    <tr style=\"text-align: right;\">\n",
       "      <th></th>\n",
       "      <th>Oscar</th>\n",
       "    </tr>\n",
       "    <tr>\n",
       "      <th>Oscar</th>\n",
       "      <th></th>\n",
       "    </tr>\n",
       "  </thead>\n",
       "  <tbody>\n",
       "    <tr>\n",
       "      <th>Nom</th>\n",
       "      <td>173</td>\n",
       "    </tr>\n",
       "    <tr>\n",
       "      <th>Won</th>\n",
       "      <td>176</td>\n",
       "    </tr>\n",
       "    <tr>\n",
       "      <th>~</th>\n",
       "      <td>550</td>\n",
       "    </tr>\n",
       "  </tbody>\n",
       "</table>\n",
       "</div>"
      ],
      "text/plain": [
       "0      Oscar\n",
       "Oscar       \n",
       "Nom      173\n",
       "Won      176\n",
       "~        550"
      ]
     },
     "execution_count": 6,
     "metadata": {},
     "output_type": "execute_result"
    },
    {
     "data": {
      "image/png": "[encoded data removed]",
      "text/plain": [
       "<Figure size 432x288 with 1 Axes>"
      ]
     },
     "metadata": {
      "needs_background": "light"
     },
     "output_type": "display_data"
    }
   ],
   "source": [
    "% pylab inline\n",
    "df.groupby([ 'Oscar'])[['Oscar']].count().plot(kind='bar').set_ylabel('Count')\n",
    "df.groupby(['Oscar' ])[['Oscar']].count()"
   ]
  },
  {
   "cell_type": "markdown",
   "metadata": {},
   "source": [
    "#### Figure 1: The 'Nomination' (Nom) and 'Won' are balanced but many actors are not in either of these categories. "
   ]
  },
  {
   "cell_type": "markdown",
   "metadata": {},
   "source": [
    "##  Import the actors 'Career' article. \n",
    " * Here we use \"wikipediaapi\" library to extract the 'Career' section for each actor article that appears in the list.  \n",
    " * It is important to note here that the preprocessing is perform as we reading the data. Hopefully, that will save processing time. "
   ]
  },
  {
   "cell_type": "markdown",
   "metadata": {},
   "source": [
    "* nltk sentance tokenizer. \n",
    "* tag words. \n",
    "* root on the original text. stanford nlp library. \n",
    "* stop words. "
   ]
  },
  {
   "cell_type": "code",
   "execution_count": 7,
   "metadata": {
    "scrolled": true
   },
   "outputs": [],
   "source": [
    "# Extracting the Career for each actor and adding them to the dataframe\n",
    " \n",
    "all_text=str([])\n",
    "\n",
    "stop_words = stopwords.words(\"english\")\n",
    "\n",
    "stop_words = [word.replace(\"\\'\", \"\") for word in stop_words]\n",
    "\n",
    "wiki_wiki = wikipediaapi.Wikipedia('en')\n",
    "\n",
    "for ind, actor_n in  enumerate(df.Actor):\n",
    "    # Uploading the actor article.\n",
    "    page_py = wiki_wiki.page(actor_n)\n",
    "    # Extracting the \"Career\" section and preprocessing the text.\n",
    "    #example_sent = preprocess(lemmatize_doc(str(page_py.section_by_title('Career')))) \n",
    "    example_sent = preprocess(lemmatize_doc(str(page_py.summary)))     \n",
    "     \n",
    "    # Stop words\n",
    "    section_py = ' '.join([w for w in example_sent.split() if not w in stop_words])    \n",
    "    # Processed \"Career\" section saved into a \"bag of words\" for the encoding \n",
    "    all_text +=  \" \"+section_py\n",
    "    \n",
    "    # Procesed \"Career\" section added to the dataframe\n",
    "    df['career'].iloc[ind] = section_py\n",
    "# \"bag of words\"\n",
    "words = all_text.split() "
   ]
  },
  {
   "cell_type": "code",
   "execution_count": 8,
   "metadata": {},
   "outputs": [
    {
     "name": "stdout",
     "output_type": "stream",
     "text": [
      "Number of unique words : 11576\n",
      "embedding_dimensions = 10.372647745416891\n"
     ]
    },
    {
     "data": {
      "text/plain": [
       "['[]',\n",
       " 'william',\n",
       " 'alexander',\n",
       " '``',\n",
       " 'bud',\n",
       " \"''\",\n",
       " 'abbott',\n",
       " '<LEFT_PAREN>',\n",
       " 'october',\n",
       " '2',\n",
       " '<COMMA>',\n",
       " '1895',\n",
       " '–',\n",
       " 'april',\n",
       " '24',\n",
       " '<COMMA>',\n",
       " '1974',\n",
       " '<RIGHT_PAREN>',\n",
       " 'american',\n",
       " 'actor',\n",
       " '<COMMA>',\n",
       " 'best',\n",
       " 'know',\n",
       " 'film',\n",
       " 'comedy',\n",
       " 'double',\n",
       " 'act',\n",
       " '<COMMA>',\n",
       " 'straight',\n",
       " 'man']"
      ]
     },
     "execution_count": 8,
     "metadata": {},
     "output_type": "execute_result"
    }
   ],
   "source": [
    "#del all_text\n",
    "print('Number of unique words :',len(set(words)))\n",
    "print('embedding_dimensions =',  len(set(words))**0.25)\n",
    "words[0:30]"
   ]
  },
  {
   "cell_type": "code",
   "execution_count": 9,
   "metadata": {},
   "outputs": [],
   "source": [
    "df_words =pd.DataFrame(words) "
   ]
  },
  {
   "cell_type": "markdown",
   "metadata": {},
   "source": [
    "## Labels\n",
    "Using one hot encoding to labels categories"
   ]
  },
  {
   "cell_type": "code",
   "execution_count": 10,
   "metadata": {},
   "outputs": [],
   "source": [
    "columns = [  'Nom','won','non' ]\n",
    "labels =    pd.DataFrame(  columns=columns)\n",
    "labels[[ 'Nom','won','non']] =  pd.DataFrame(pd.get_dummies(df['Oscar']))\n",
    " "
   ]
  },
  {
   "cell_type": "code",
   "execution_count": 11,
   "metadata": {},
   "outputs": [
    {
     "data": {
      "text/html": [
       "<div>\n",
       "<style scoped>\n",
       "    .dataframe tbody tr th:only-of-type {\n",
       "        vertical-align: middle;\n",
       "    }\n",
       "\n",
       "    .dataframe tbody tr th {\n",
       "        vertical-align: top;\n",
       "    }\n",
       "\n",
       "    .dataframe thead th {\n",
       "        text-align: right;\n",
       "    }\n",
       "</style>\n",
       "<table border=\"1\" class=\"dataframe\">\n",
       "  <thead>\n",
       "    <tr style=\"text-align: right;\">\n",
       "      <th></th>\n",
       "      <th>Nom</th>\n",
       "      <th>won</th>\n",
       "      <th>non</th>\n",
       "    </tr>\n",
       "  </thead>\n",
       "  <tbody>\n",
       "    <tr>\n",
       "      <th>1</th>\n",
       "      <td>0</td>\n",
       "      <td>0</td>\n",
       "      <td>1</td>\n",
       "    </tr>\n",
       "    <tr>\n",
       "      <th>2</th>\n",
       "      <td>0</td>\n",
       "      <td>0</td>\n",
       "      <td>1</td>\n",
       "    </tr>\n",
       "    <tr>\n",
       "      <th>3</th>\n",
       "      <td>1</td>\n",
       "      <td>0</td>\n",
       "      <td>0</td>\n",
       "    </tr>\n",
       "    <tr>\n",
       "      <th>4</th>\n",
       "      <td>0</td>\n",
       "      <td>0</td>\n",
       "      <td>1</td>\n",
       "    </tr>\n",
       "    <tr>\n",
       "      <th>5</th>\n",
       "      <td>0</td>\n",
       "      <td>0</td>\n",
       "      <td>1</td>\n",
       "    </tr>\n",
       "  </tbody>\n",
       "</table>\n",
       "</div>"
      ],
      "text/plain": [
       "   Nom  won  non\n",
       "1    0    0    1\n",
       "2    0    0    1\n",
       "3    1    0    0\n",
       "4    0    0    1\n",
       "5    0    0    1"
      ]
     },
     "execution_count": 11,
     "metadata": {},
     "output_type": "execute_result"
    }
   ],
   "source": [
    "labels.head()"
   ]
  },
  {
   "cell_type": "markdown",
   "metadata": {},
   "source": [
    "### Save to file"
   ]
  },
  {
   "cell_type": "code",
   "execution_count": 12,
   "metadata": {},
   "outputs": [],
   "source": [
    "#df_words.to_csv('words.csv' ,index=False)\n",
    "#df.to_csv('holly_actr.csv' )\n",
    "#labels.to_csv('labels.csv' ,index=False)"
   ]
  },
  {
   "cell_type": "code",
   "execution_count": 13,
   "metadata": {},
   "outputs": [],
   "source": [
    "#df_words = pd.read_csv('words.csv') \n",
    "#words = df_words['0'].values.tolist()\n",
    "#df = pd.read_csv('holly_actr.csv') \n",
    "#labels = pd.read_csv('labels.csv') "
   ]
  },
  {
   "cell_type": "markdown",
   "metadata": {},
   "source": [
    "### Encoding the words\n",
    "Each unique word in the 'bag of words' gets an integer. That will be used to encode the text in the data frame."
   ]
  },
  {
   "cell_type": "code",
   "execution_count": 14,
   "metadata": {},
   "outputs": [],
   "source": [
    "# Frequency of each word in the text.\n",
    "counts = Counter(words)\n",
    "# sort the words acording to the frequency they appears\n",
    "vocab = sorted(counts, key=counts.get, reverse=True)\n",
    "# transfor each word to a unique integer.\n",
    "vocab_to_int = {word: ii for ii, word in enumerate(vocab, 1)}\n",
    " \n",
    "#Transform the 'career' into list of integers acording to the encoding.\n",
    "career_ints = []\n",
    "for i, each in enumerate(df['career']):\n",
    "     \n",
    "    if (each !='none' and each !='a' and  each !='nan'):\n",
    "        career_ints.append([vocab_to_int[word] for word in each.split()])\n",
    "    else:\n",
    "        career_ints.append([0])\n",
    " "
   ]
  },
  {
   "cell_type": "markdown",
   "metadata": {},
   "source": [
    "### Overview for the career articles"
   ]
  },
  {
   "cell_type": "code",
   "execution_count": 16,
   "metadata": {},
   "outputs": [
    {
     "name": "stdout",
     "output_type": "stream",
     "text": [
      "1 word-length reviews: 0\n",
      "Maximum review length: 584\n"
     ]
    }
   ],
   "source": [
    "review_lens = Counter([len(x) for x in career_ints])\n",
    "print(\"1 word-length reviews: {}\".format(review_lens[1]))\n",
    "print(\"Maximum review length: {}\".format(max(review_lens)))"
   ]
  },
  {
   "cell_type": "markdown",
   "metadata": {},
   "source": [
    "We find that around half of the actors have no articles. That might be due to a different section name. In some cases, the 'early life' section is combined with the 'career'. This is something that can be solved. However, the data include enough articles to demonstrate the analysis. "
   ]
  },
  {
   "cell_type": "code",
   "execution_count": 17,
   "metadata": {},
   "outputs": [
    {
     "data": {
      "text/html": [
       "<div>\n",
       "<style scoped>\n",
       "    .dataframe tbody tr th:only-of-type {\n",
       "        vertical-align: middle;\n",
       "    }\n",
       "\n",
       "    .dataframe tbody tr th {\n",
       "        vertical-align: top;\n",
       "    }\n",
       "\n",
       "    .dataframe thead th {\n",
       "        text-align: right;\n",
       "    }\n",
       "</style>\n",
       "<table border=\"1\" class=\"dataframe\">\n",
       "  <thead>\n",
       "    <tr style=\"text-align: right;\">\n",
       "      <th></th>\n",
       "      <th>0</th>\n",
       "    </tr>\n",
       "  </thead>\n",
       "  <tbody>\n",
       "    <tr>\n",
       "      <th>count</th>\n",
       "      <td>899.000000</td>\n",
       "    </tr>\n",
       "    <tr>\n",
       "      <th>mean</th>\n",
       "      <td>123.933259</td>\n",
       "    </tr>\n",
       "    <tr>\n",
       "      <th>std</th>\n",
       "      <td>102.893809</td>\n",
       "    </tr>\n",
       "    <tr>\n",
       "      <th>min</th>\n",
       "      <td>0.000000</td>\n",
       "    </tr>\n",
       "    <tr>\n",
       "      <th>25%</th>\n",
       "      <td>40.000000</td>\n",
       "    </tr>\n",
       "    <tr>\n",
       "      <th>50%</th>\n",
       "      <td>91.000000</td>\n",
       "    </tr>\n",
       "    <tr>\n",
       "      <th>75%</th>\n",
       "      <td>182.000000</td>\n",
       "    </tr>\n",
       "    <tr>\n",
       "      <th>max</th>\n",
       "      <td>584.000000</td>\n",
       "    </tr>\n",
       "  </tbody>\n",
       "</table>\n",
       "</div>"
      ],
      "text/plain": [
       "                0\n",
       "count  899.000000\n",
       "mean   123.933259\n",
       "std    102.893809\n",
       "min      0.000000\n",
       "25%     40.000000\n",
       "50%     91.000000\n",
       "75%    182.000000\n",
       "max    584.000000"
      ]
     },
     "execution_count": 17,
     "metadata": {},
     "output_type": "execute_result"
    },
    {
     "data": {
      "image/png": "[encoded data removed]",
      "text/plain": [
       "<Figure size 432x288 with 1 Axes>"
      ]
     },
     "metadata": {
      "needs_background": "light"
     },
     "output_type": "display_data"
    }
   ],
   "source": [
    "import pylab as pl\n",
    "#pd.DataFrame.from_dict(  review_lens ) \n",
    "review_le = ([len(x) for x in career_ints])\n",
    "review_df = pd.DataFrame(review_le)\n",
    "\n",
    "review_df.hist(bins = 20) \n",
    "pl.xlabel('Number of words')\n",
    "pl.ylabel('Number of samples')\n",
    "pl.title('distribution of Number of words in articles')\n",
    "pd.DataFrame(review_df.describe())\n",
    " "
   ]
  },
  {
   "cell_type": "markdown",
   "metadata": {},
   "source": [
    "#### Figure 2: 50% of the articles are shorter than 150 words. The average number of words in the articles is 566 words.  "
   ]
  },
  {
   "cell_type": "code",
   "execution_count": 18,
   "metadata": {},
   "outputs": [
    {
     "data": {
      "text/html": [
       "<div>\n",
       "<style scoped>\n",
       "    .dataframe tbody tr th:only-of-type {\n",
       "        vertical-align: middle;\n",
       "    }\n",
       "\n",
       "    .dataframe tbody tr th {\n",
       "        vertical-align: top;\n",
       "    }\n",
       "\n",
       "    .dataframe thead th {\n",
       "        text-align: right;\n",
       "    }\n",
       "</style>\n",
       "<table border=\"1\" class=\"dataframe\">\n",
       "  <thead>\n",
       "    <tr style=\"text-align: right;\">\n",
       "      <th></th>\n",
       "      <th>0</th>\n",
       "    </tr>\n",
       "  </thead>\n",
       "  <tbody>\n",
       "    <tr>\n",
       "      <th>count</th>\n",
       "      <td>899.000000</td>\n",
       "    </tr>\n",
       "    <tr>\n",
       "      <th>mean</th>\n",
       "      <td>123.933259</td>\n",
       "    </tr>\n",
       "    <tr>\n",
       "      <th>std</th>\n",
       "      <td>102.893809</td>\n",
       "    </tr>\n",
       "    <tr>\n",
       "      <th>min</th>\n",
       "      <td>0.000000</td>\n",
       "    </tr>\n",
       "    <tr>\n",
       "      <th>25%</th>\n",
       "      <td>40.000000</td>\n",
       "    </tr>\n",
       "    <tr>\n",
       "      <th>50%</th>\n",
       "      <td>91.000000</td>\n",
       "    </tr>\n",
       "    <tr>\n",
       "      <th>75%</th>\n",
       "      <td>182.000000</td>\n",
       "    </tr>\n",
       "    <tr>\n",
       "      <th>max</th>\n",
       "      <td>584.000000</td>\n",
       "    </tr>\n",
       "  </tbody>\n",
       "</table>\n",
       "</div>"
      ],
      "text/plain": [
       "                0\n",
       "count  899.000000\n",
       "mean   123.933259\n",
       "std    102.893809\n",
       "min      0.000000\n",
       "25%     40.000000\n",
       "50%     91.000000\n",
       "75%    182.000000\n",
       "max    584.000000"
      ]
     },
     "execution_count": 18,
     "metadata": {},
     "output_type": "execute_result"
    },
    {
     "data": {
      "image/png": "[encoded data removed]",
      "text/plain": [
       "<Figure size 432x288 with 1 Axes>"
      ]
     },
     "metadata": {
      "needs_background": "light"
     },
     "output_type": "display_data"
    }
   ],
   "source": [
    "import pylab as pl\n",
    "#pd.DataFrame.from_dict(  review_lens ) \n",
    "review_le =  ([len(x) for x in career_ints])\n",
    "review_df = pd.DataFrame(review_le)\n",
    "\n",
    "review_df[(review_df[0]!=1)&(review_df[0]<3000)].hist(bins = 50) \n",
    "pl.xlabel('Number of words')\n",
    "pl.ylabel('Number of samples')\n",
    "pl.title('distribution of Number of words in articles')\n",
    "pd.DataFrame(review_df[review_df[0]!=1].describe())\n",
    " "
   ]
  },
  {
   "cell_type": "code",
   "execution_count": 19,
   "metadata": {},
   "outputs": [
    {
     "data": {
      "text/plain": [
       "899"
      ]
     },
     "execution_count": 19,
     "metadata": {},
     "output_type": "execute_result"
    }
   ],
   "source": [
    "len(review_df[review_df[0]!=1])"
   ]
  },
  {
   "cell_type": "code",
   "execution_count": 20,
   "metadata": {},
   "outputs": [
    {
     "name": "stdout",
     "output_type": "stream",
     "text": [
      "Number of articles that have career section and the actor won or was nominated to Oscar: 349\n"
     ]
    }
   ],
   "source": [
    "samp = len(df[ (df['Oscar'] != '~') & (df['career'] != 'none') ])\n",
    "print(\"Number of articles that have career section and the actor won or was nominated to Oscar: {}\".format(samp))"
   ]
  },
  {
   "cell_type": "markdown",
   "metadata": {},
   "source": [
    "### Prepare the data for the model\n",
    "Create an array of features that contains the data we'll pass to the network. The data come from 'career_ints', since we want to feed integers to the network. Each row is 300 words long. The shorter rows are than pads with 0s. For the long rows, only the first 300 words are used."
   ]
  },
  {
   "cell_type": "code",
   "execution_count": 21,
   "metadata": {
    "scrolled": true
   },
   "outputs": [
    {
     "ename": "ValueError",
     "evalue": "could not broadcast input array from shape (0) into shape (300)",
     "output_type": "error",
     "traceback": [
      "\u001b[1;31m---------------------------------------------------------------------------\u001b[0m",
      "\u001b[1;31mValueError\u001b[0m                                Traceback (most recent call last)",
      "\u001b[1;32m<ipython-input-21-b1a0c32db151>\u001b[0m in \u001b[0;36m<module>\u001b[1;34m()\u001b[0m\n\u001b[0;32m      4\u001b[0m \u001b[0mfeatures\u001b[0m \u001b[1;33m=\u001b[0m \u001b[0mnp\u001b[0m\u001b[1;33m.\u001b[0m\u001b[0mzeros\u001b[0m\u001b[1;33m(\u001b[0m\u001b[1;33m(\u001b[0m\u001b[0mlen\u001b[0m\u001b[1;33m(\u001b[0m\u001b[0mcareer_ints\u001b[0m\u001b[1;33m)\u001b[0m\u001b[1;33m,\u001b[0m \u001b[0mseq_len\u001b[0m\u001b[1;33m)\u001b[0m\u001b[1;33m,\u001b[0m \u001b[0mdtype\u001b[0m\u001b[1;33m=\u001b[0m\u001b[0mint\u001b[0m\u001b[1;33m)\u001b[0m\u001b[1;33m\u001b[0m\u001b[0m\n\u001b[0;32m      5\u001b[0m \u001b[1;32mfor\u001b[0m \u001b[0mi\u001b[0m\u001b[1;33m,\u001b[0m \u001b[0mrow\u001b[0m \u001b[1;32min\u001b[0m \u001b[0menumerate\u001b[0m\u001b[1;33m(\u001b[0m\u001b[0mcareer_ints\u001b[0m\u001b[1;33m)\u001b[0m\u001b[1;33m:\u001b[0m\u001b[1;33m\u001b[0m\u001b[0m\n\u001b[1;32m----> 6\u001b[1;33m     \u001b[0mfeatures\u001b[0m\u001b[1;33m[\u001b[0m\u001b[0mi\u001b[0m\u001b[1;33m,\u001b[0m \u001b[1;33m-\u001b[0m\u001b[0mlen\u001b[0m\u001b[1;33m(\u001b[0m\u001b[0mrow\u001b[0m\u001b[1;33m)\u001b[0m\u001b[1;33m:\u001b[0m\u001b[1;33m]\u001b[0m \u001b[1;33m=\u001b[0m \u001b[0mnp\u001b[0m\u001b[1;33m.\u001b[0m\u001b[0marray\u001b[0m\u001b[1;33m(\u001b[0m\u001b[0mrow\u001b[0m\u001b[1;33m)\u001b[0m\u001b[1;33m[\u001b[0m\u001b[1;33m:\u001b[0m\u001b[0mseq_len\u001b[0m\u001b[1;33m]\u001b[0m\u001b[1;33m\u001b[0m\u001b[0m\n\u001b[0m",
      "\u001b[1;31mValueError\u001b[0m: could not broadcast input array from shape (0) into shape (300)"
     ]
    }
   ],
   "source": [
    "# Considering the distribution with no 0, perhaps seq_len of 800 is more appropriate \n",
    "import numpy as np\n",
    "seq_len = 300\n",
    "features = np.zeros((len(career_ints), seq_len), dtype=int)\n",
    "for i, row in enumerate(career_ints):\n",
    "    features[i, -len(row):] = np.array(row)[:seq_len]"
   ]
  },
  {
   "cell_type": "code",
   "execution_count": 24,
   "metadata": {},
   "outputs": [
    {
     "data": {
      "text/plain": [
       "[]"
      ]
     },
     "execution_count": 24,
     "metadata": {},
     "output_type": "execute_result"
    }
   ],
   "source": [
    "row\n"
   ]
  },
  {
   "cell_type": "code",
   "execution_count": 19,
   "metadata": {},
   "outputs": [
    {
     "data": {
      "text/plain": [
       "array([[   0,    0,    0, ...,    3,   20,    4],\n",
       "       [   0,    0,    0, ...,    0,    0,    0],\n",
       "       [   3,   63,    4, ..., 4536, 1863,    1],\n",
       "       ...,\n",
       "       [   0,    0,    0, ...,    0,    0,    0],\n",
       "       [   0,    0,    0, ...,    3,   20,    4],\n",
       "       [   0,    0,    0, ...,    0,    0,    0]])"
      ]
     },
     "execution_count": 19,
     "metadata": {},
     "output_type": "execute_result"
    }
   ],
   "source": [
    "features"
   ]
  },
  {
   "cell_type": "markdown",
   "metadata": {},
   "source": [
    "## Training, Validation, Test"
   ]
  },
  {
   "cell_type": "code",
   "execution_count": 20,
   "metadata": {},
   "outputs": [
    {
     "name": "stdout",
     "output_type": "stream",
     "text": [
      "\t\t\tFeature Shapes:\n",
      "Train set: \t\t(719, 800) \n",
      "Validation set: \t(90, 800) \n",
      "Test set: \t\t(90, 800) \n",
      "Test set: \t\t(90, 3) \n",
      "Validation set: \t(90, 3) \n",
      "Train set: \t\t(719, 3)\n"
     ]
    }
   ],
   "source": [
    "#Can be replace with train test split\n",
    "\n",
    "split_frac = 0.8\n",
    "split_idx = int(len(features)*0.8)\n",
    "train_x, val_x = features[:split_idx], features[split_idx:]\n",
    "train_y, val_y = labels.values[:split_idx ], labels.values[split_idx: ]\n",
    "\n",
    "test_idx = int(len(val_x)*0.5)\n",
    "val_x, test_x = val_x[:test_idx], val_x[test_idx:]\n",
    "val_y, test_y = val_y[:test_idx], val_y[test_idx:]\n",
    "\n",
    "print(\"\\t\\t\\tFeature Shapes:\")\n",
    "print(\"Train set: \\t\\t{}\".format(train_x.shape), \n",
    "      \"\\nValidation set: \\t{}\".format(val_x.shape),\n",
    "      \"\\nTest set: \\t\\t{}\".format(test_x.shape),\n",
    "      \"\\nTest set: \\t\\t{}\".format(test_y.shape),\n",
    "     \"\\nValidation set: \\t{}\".format(val_y.shape),\n",
    "     \"\\nTrain set: \\t\\t{}\".format(train_y.shape))"
   ]
  },
  {
   "cell_type": "markdown",
   "metadata": {},
   "source": [
    "## Build the graph\n",
    "\n",
    "### Hyperparameters Defining.\n",
    "\n",
    "* `lstm_size`: Number of units in the hidden layers in the LSTM cells. \n",
    "* `lstm_layers`: Number of LSTM layers in the network.\n",
    "* `batch_size`: The number of articles to feed the network in one training pass.  \n",
    "* `learning_rate`: Learning rate"
   ]
  },
  {
   "cell_type": "code",
   "execution_count": 24,
   "metadata": {},
   "outputs": [],
   "source": [
    "\n",
    "tf.reset_default_graph()\n",
    "\n",
    "lstm_size = 256\n",
    "lstm_layers = 1\n",
    "batch_size = 90\n",
    "learning_rate = 0.001\n",
    "NUM_CLASSES = 3\n",
    "epochs = 5\n",
    "embed_size = 100  "
   ]
  },
  {
   "cell_type": "markdown",
   "metadata": {},
   "source": [
    "For the network itself, we'll be passing in 300 words long vectors. Each batch will be batch_size vectors. We'll also be using dropout on the LSTM layer, so we'll make a placeholder for the keep probability."
   ]
  },
  {
   "cell_type": "code",
   "execution_count": 25,
   "metadata": {},
   "outputs": [],
   "source": [
    "n_words = len(vocab_to_int) + 1 # Adding 1 because we use 0's for padding, dictionary started at 1\n",
    "\n",
    "# Create the graph object\n",
    "graph = tf.Graph()\n",
    "# Add nodes to the graph\n",
    "with graph.as_default():\n",
    "    inputs_ = tf.placeholder(tf.int32, [None, None], name='inputs')\n",
    "    labels_ = tf.placeholder(tf.int32, [None, None], name='labels')\n",
    "    keep_prob = tf.placeholder(tf.float32, name='keep_prob')"
   ]
  },
  {
   "cell_type": "markdown",
   "metadata": {},
   "source": [
    "### Embedding\n",
    "\n",
    "Now we'll add an embedding layer. We need to do this because it is inefficient to one-hot encode our classes here. Instead of one-hot encoding, we can have an embedding layer and use that layer as a lookup table. It is also possible to train an embedding layer using word2vec, then load it here.  "
   ]
  },
  {
   "cell_type": "code",
   "execution_count": 26,
   "metadata": {},
   "outputs": [],
   "source": [
    "# Size of the embedding vectors (number of units in the embedding layer)\n",
    "# embed_size = 100 # can be other size. \n",
    "\n",
    "with graph.as_default():\n",
    "    embedding = tf.Variable(tf.random_uniform((n_words, embed_size), -1, 1))\n",
    "    embed = tf.nn.embedding_lookup(embedding, inputs_)"
   ]
  },
  {
   "cell_type": "markdown",
   "metadata": {},
   "source": [
    "### LSTM cell\n",
    "\n",
    " \n",
    "Next, we'll create our LSTM cells to use in the recurrent network ([TensorFlow documentation](https://www.tensorflow.org/api_docs/python/tf/contrib/rnn)). \n",
    "\n",
    "To create a basic LSTM cell for the graph, we'll   use `tf.contrib.rnn.BasicLSTMCell`.\n",
    "\n",
    "```\n",
    "tf.contrib.rnn.BasicLSTMCell(num_units, forget_bias=1.0, input_size=None, state_is_tuple=True, activation=<function tanh at 0x109f1ef28>)\n",
    "```\n",
    "\n",
    "BasicLSTMCell   takes a parameter `num_units`, the number of units in the cell (`lstm_size`).  \n",
    "\n",
    " \n",
    "\n",
    "Next, we add dropout to the cell with `tf.contrib.rnn.DropoutWrapper`. This just wraps the cell in another cell, but with dropout added to the inputs and/or outputs. It's a really convenient way to make the network better with almost no effort! \n",
    "\n",
    "\n",
    "The network will have better performance with more layers. Adding more layers allows the network to learn complex relationships. A simple way to create multiple layers of LSTM cells with `tf.contrib.rnn.MultiRNNCell`:\n",
    "\n",
    "```\n",
    "cell = tf.contrib.rnn.MultiRNNCell([drop] * lstm_layers)\n",
    "```\n",
    "\n",
    "Here, `[drop] * lstm_layers` creates a list of cells (`drop`) that is `lstm_layers` long. The `MultiRNNCell` wrapper builds this into multiple layers of RNN cells, one for each cell in the list.\n",
    "\n",
    "So the final cell we're using in the network is actually multiple  LSTM cells with dropout. But it all works the same from an architectural viewpoint, just a more complicated graph in the cell.\n",
    "\n",
    " "
   ]
  },
  {
   "cell_type": "code",
   "execution_count": 27,
   "metadata": {},
   "outputs": [],
   "source": [
    "with graph.as_default():\n",
    "    # Basic LSTM cell\n",
    " \n",
    "    lstm = tf.nn.rnn_cell.BasicLSTMCell(lstm_size)\n",
    " \n",
    "    # Dropout to the cell\n",
    "    drop = tf.nn.rnn_cell.DropoutWrapper(lstm, output_keep_prob=keep_prob)\n",
    "    \n",
    "    # Stack up multiple LSTM layers, for deep learning\n",
    "    cell = tf.nn.rnn_cell.MultiRNNCell([drop] * lstm_layers)\n",
    "    \n",
    "    # Getting an initial state of all zeros\n",
    "    initial_state = cell.zero_state(batch_size, tf.float32)"
   ]
  },
  {
   "cell_type": "markdown",
   "metadata": {},
   "source": [
    "### RNN forward pass\n",
    "Now we need to actually run the data through the RNN nodes. We use tf.nn.dynamic_rnn to do this. We pass in the RNN cell you created (our multiple layered LSTM cell for instance), and the inputs to the network.\n",
    "outputs, final_state = tf.nn.dynamic_rnn(cell, inputs, initial_state=initial_state)\n",
    "Above I created an initial state, initial_state, to pass to the RNN. This is the cell state that is passed between the hidden layers in successive time steps. tf.nn.dynamic_rnn takes care of most of the work for us. We pass in our cell and the input to the cell, then it does the unrolling and everything else for us. It returns outputs for each time step and the final_state of the hidden layer.\n"
   ]
  },
  {
   "cell_type": "code",
   "execution_count": 28,
   "metadata": {},
   "outputs": [],
   "source": [
    "with graph.as_default():\n",
    "    outputs, final_state = tf.nn.dynamic_rnn(cell, embed,\n",
    "                                             initial_state=initial_state)"
   ]
  },
  {
   "cell_type": "markdown",
   "metadata": {},
   "source": [
    "### Output\n",
    "#### Training Cost\n",
    "We only care about the final output, we'll be using that as our prediction. So we need to grab the last output with `outputs[:, -1]`, the calculate the cost from that and `labels_`. Since we have more than 2 labels it is important to use the softmax_cross_entropy."
   ]
  },
  {
   "cell_type": "code",
   "execution_count": 29,
   "metadata": {},
   "outputs": [
    {
     "name": "stdout",
     "output_type": "stream",
     "text": [
      "1.10.0\n"
     ]
    }
   ],
   "source": [
    " \n",
    "print (tf.__version__)"
   ]
  },
  {
   "cell_type": "code",
   "execution_count": 30,
   "metadata": {},
   "outputs": [],
   "source": [
    "with graph.as_default():\n",
    "    predictions = tf.contrib.layers.fully_connected(outputs[:, -1], NUM_CLASSES, \n",
    "                                                    activation_fn=tf.sigmoid)\n",
    "    \n",
    "    cost = tf.reduce_mean(tf.nn.softmax_cross_entropy_with_logits_v2(labels=labels_, logits=predictions))\n",
    "    #cost = tf.losses.mean_squared_error(labels_, predictions)\n",
    "    \n",
    "    optimizer = tf.train.AdamOptimizer(learning_rate).minimize(cost)"
   ]
  },
  {
   "cell_type": "markdown",
   "metadata": {},
   "source": [
    "#### Validation accuracy\n",
    "Here we   calculate the accuracy which I'll use in the validation pass."
   ]
  },
  {
   "cell_type": "code",
   "execution_count": null,
   "metadata": {},
   "outputs": [],
   "source": [
    "with graph.as_default():\n",
    "    correct_pred = tf.equal(tf.cast(tf.round(predictions), tf.int32), labels_)\n",
    "    accuracy = tf.reduce_mean(tf.cast(correct_pred, tf.float32))\n",
    "    \n",
    "    correct_pred = tf.equal(tf.argmax(prediction, 1), tf.argmax(y, 1))\n",
    "\n",
    "    accuracy = tf.reduce_mean(tf.cast(correct_pred, tf.float32)) \n",
    " "
   ]
  },
  {
   "cell_type": "markdown",
   "metadata": {},
   "source": [
    "#### Batching\n",
    "This function returning batches from our data. First it removes data such that we only have full batches. Then it iterates through the x and y arrays and returns slices out of those arrays with size [batch_size]."
   ]
  },
  {
   "cell_type": "code",
   "execution_count": 32,
   "metadata": {},
   "outputs": [],
   "source": [
    "def get_batches(x, y, batch_size=batch_size):\n",
    "    \n",
    "    n_batches = len(x)//batch_size\n",
    "    x, y = x[:n_batches*batch_size], y[:n_batches*batch_size]\n",
    "    for ii in range(0, len(x), batch_size):\n",
    "        yield x[ii:ii+batch_size], y[ii:ii+batch_size]"
   ]
  },
  {
   "cell_type": "code",
   "execution_count": 23,
   "metadata": {},
   "outputs": [],
   "source": [
    "tf.reset_default_graph()\n",
    "\n",
    "lstm_size = 256\n",
    "num_units = [128, 64 ]\n",
    "lstm_layers = 2\n",
    "batch_size = 30\n",
    "learning_rate = 0.001\n",
    "NUM_CLASSES = 3\n",
    "epochs = 3\n",
    "keep_prob = 0.5\n",
    "embed_size = 50  \n",
    "seq_len = 800\n",
    "n_words = len(vocab_to_int) + 1 # Adding 1 because we use 0's for padding, dictionary started at 1\n",
    "\n",
    "# Create the graph object\n",
    "graph = tf.Graph()\n",
    "# Add nodes to the graph\n",
    "with graph.as_default():\n",
    "    inputs_ = tf.placeholder(tf.int32, [None, None], name='inputs')\n",
    "    labels_ = tf.placeholder(tf.int32, [None, None], name='labels')\n",
    "    keep_prob = tf.placeholder(tf.float32, name='keep_prob')\n",
    "\n",
    "with graph.as_default():\n",
    "    embedding = tf.Variable(tf.random_uniform((n_words, embed_size), -1, 1))\n",
    "    embed = tf.nn.embedding_lookup(embedding, inputs_)\n",
    "    \n",
    "with graph.as_default():\n",
    "    # Basic LSTM cell\n",
    " \n",
    "    lstm = [ tf.contrib.rnn.DropoutWrapper(tf.contrib.rnn.BasicLSTMCell(num_units=n), \n",
    "                                           output_keep_prob=keep_prob) for n in num_units]\n",
    "    cell = tf.contrib.rnn.MultiRNNCell(lstm)\n",
    "  \n",
    " \n",
    "\n",
    "    initial_state = cell.zero_state(  batch_size , tf.float32)\n",
    "# RNN forward pass\n",
    "with graph.as_default():\n",
    "    outputs, final_state = tf.nn.dynamic_rnn(cell, embed,\n",
    "                                             initial_state=initial_state)\n",
    "    \n",
    "# Output Training Cost\n",
    "with graph.as_default():\n",
    "    predictions = tf.contrib.layers.fully_connected(outputs[:, -1], NUM_CLASSES, \n",
    "                                                    activation_fn=tf.sigmoid)\n",
    "    # For multi output\n",
    "    cost = tf.reduce_mean(tf.nn.softmax_cross_entropy_with_logits_v2(labels=labels_, logits=predictions))\n",
    "    # For binarry output \n",
    "    # cost = tf.losses.mean_squared_error(labels_, predictions)\n",
    "    \n",
    "    optimizer = tf.train.AdamOptimizer(learning_rate).minimize(cost)\n",
    "    \n",
    "# Validation, \n",
    "with graph.as_default():\n",
    "    # For binarry output \n",
    "    # correct_pred = tf.equal(tf.cast(tf.round(predictions), tf.int32), labels_)\n",
    "    # accuracy = tf.reduce_mean(tf.cast(correct_pred, tf.float32))\n",
    "    \n",
    "    # For multi output  \n",
    "    correct_pred = tf.equal(tf.argmax(predictions, 1), tf.argmax(labels_, 1))\n",
    "\n",
    "    accuracy = tf.reduce_mean(tf.cast(correct_pred, tf.float32)) \n",
    "    \n",
    "# Batching \n",
    "def get_batches(x, y, batch_size=batch_size):\n",
    "    \n",
    "    n_batches = len(x)//batch_size\n",
    "    x, y = x[:n_batches*batch_size], y[:n_batches*batch_size]\n",
    "    for ii in range(0, len(x), batch_size):\n",
    "        yield x[ii:ii+batch_size], y[ii:ii+batch_size]"
   ]
  },
  {
   "cell_type": "markdown",
   "metadata": {},
   "source": [
    "## Training\n",
    "\n",
    "Below is the training code. "
   ]
  },
  {
   "cell_type": "code",
   "execution_count": 60,
   "metadata": {},
   "outputs": [
    {
     "name": "stdout",
     "output_type": "stream",
     "text": [
      "Epoch: 0/3 Iteration: 5 Train loss: 0.920\n",
      "Epoch: 0/3 Iteration: 10 Train loss: 0.885\n",
      "Epoch: 0/3 Iteration: 15 Train loss: 1.127\n",
      "Epoch: 0/3 Iteration: 20 Train loss: 0.989\n",
      "Epoch: 1/3 Iteration: 25 Train loss: 0.889\n",
      "Val acc: 0.589\n",
      "Epoch: 1/3 Iteration: 30 Train loss: 0.920\n",
      "Epoch: 1/3 Iteration: 35 Train loss: 0.985\n",
      "Epoch: 1/3 Iteration: 40 Train loss: 0.855\n",
      "Epoch: 1/3 Iteration: 45 Train loss: 0.859\n",
      "Epoch: 2/3 Iteration: 50 Train loss: 0.854\n",
      "Val acc: 0.589\n",
      "Epoch: 2/3 Iteration: 55 Train loss: 1.117\n",
      "Epoch: 2/3 Iteration: 60 Train loss: 1.049\n",
      "Epoch: 2/3 Iteration: 65 Train loss: 0.979\n"
     ]
    }
   ],
   "source": [
    " \n",
    "with graph.as_default():\n",
    "    saver = tf.train.Saver()\n",
    "\n",
    "with tf.Session(graph=graph) as sess:\n",
    "    sess.run(tf.global_variables_initializer())\n",
    "    iteration = 1\n",
    "    for e in range(epochs):\n",
    "        state = sess.run(initial_state)\n",
    "        \n",
    "        for ii, (x, y) in enumerate(get_batches(train_x, train_y, batch_size), 1):\n",
    "            feed = {inputs_: x,\n",
    "                    labels_: y[:, :],\n",
    "                    keep_prob: 0.7,\n",
    "                    initial_state: state}\n",
    "            loss, state, _ = sess.run([cost, final_state, optimizer], feed_dict=feed)\n",
    "            \n",
    "            if iteration%5==0:\n",
    "                print(\"Epoch: {}/{}\".format(e, epochs),\n",
    "                      \"Iteration: {}\".format(iteration),\n",
    "                      \"Train loss: {:.3f}\".format(loss))\n",
    "\n",
    "            if iteration%25==0:\n",
    "                val_acc = []\n",
    "                val_state = sess.run(cell.zero_state(batch_size, tf.float32))\n",
    "                for x, y in get_batches(val_x, val_y, batch_size):\n",
    "                    feed = {inputs_: x,\n",
    "                            labels_: y[:,:],\n",
    "                            keep_prob: 1,\n",
    "                            initial_state: val_state}\n",
    "                    batch_acc, val_state = sess.run([accuracy, final_state], feed_dict=feed)\n",
    "                    val_acc.append(batch_acc)\n",
    "             \n",
    "                print(\"Val acc: {:.3f}\".format(np.mean(val_acc)))\n",
    "            iteration +=1\n",
    "    saver.save(sess, \"checkpoints/sentiment.ckpt\")"
   ]
  },
  {
   "cell_type": "markdown",
   "metadata": {},
   "source": [
    "### Similar LSTM implemented using Keras"
   ]
  },
  {
   "cell_type": "code",
   "execution_count": 22,
   "metadata": {
    "scrolled": false
   },
   "outputs": [
    {
     "name": "stdout",
     "output_type": "stream",
     "text": [
      "_________________________________________________________________\n",
      "Layer (type)                 Output Shape              Param #   \n",
      "=================================================================\n",
      "embedding_1 (Embedding)      (None, 800, 50)           1492500   \n",
      "_________________________________________________________________\n",
      "spatial_dropout1d_1 (Spatial (None, 800, 50)           0         \n",
      "_________________________________________________________________\n",
      "lstm_1 (LSTM)                (None, 800, 128)          91648     \n",
      "_________________________________________________________________\n",
      "lstm_2 (LSTM)                (None, 64)                49408     \n",
      "_________________________________________________________________\n",
      "dense_1 (Dense)              (None, 3)                 195       \n",
      "=================================================================\n",
      "Total params: 1,633,751\n",
      "Trainable params: 1,633,751\n",
      "Non-trainable params: 0\n",
      "_________________________________________________________________\n",
      "None\n",
      "Train on 575 samples, validate on 144 samples\n",
      "Epoch 1/3\n",
      "575/575 [==============================] - 135s 235ms/step - loss: 1.0476 - acc: 0.5774 - val_loss: 0.9935 - val_acc: 0.6528\n",
      "Epoch 2/3\n",
      "575/575 [==============================] - 127s 220ms/step - loss: 0.9725 - acc: 0.6157 - val_loss: 0.8843 - val_acc: 0.6528\n",
      "Epoch 3/3\n",
      "575/575 [==============================] - 129s 225ms/step - loss: 0.9415 - acc: 0.6139 - val_loss: 0.8827 - val_acc: 0.6528\n"
     ]
    }
   ],
   "source": [
    "tf.keras.backend.clear_session()\n",
    " \n",
    "from keras.callbacks import EarlyStopping\n",
    "from keras.layers import Dense, Embedding, LSTM, SpatialDropout1D\n",
    "from keras.models import Sequential\n",
    "\n",
    "lstm_size = 256\n",
    "num_units = [128, 64 ]\n",
    "lstm_layers = 2\n",
    "batch_size = 30\n",
    "learning_rate = 0.001\n",
    "NUM_CLASSES = 3\n",
    "epochs = 3\n",
    "embed_size = 50  \n",
    "seq_len = 800\n",
    " \n",
    "n_most_common_words=29850 \n",
    " \n",
    "#model.add(LSTM(128, dropout=keep_prob, recurrent_dropout=keep_prob,return_sequences=True))\n",
    "model = Sequential()\n",
    "model.add(Embedding(n_most_common_words,50, input_length=800))\n",
    "model.add(SpatialDropout1D(0.7))\n",
    "model.add(LSTM(128, dropout=0.7, recurrent_dropout=0.7,return_sequences=True)) \n",
    "model.add(LSTM(64, dropout=0.7, recurrent_dropout=0.7 ))\n",
    "model.add(Dense(3, activation = 'softmax'))\n",
    "model.compile(optimizer = 'adam', loss='categorical_crossentropy', metrics=['acc'])\n",
    "print(model.summary())\n",
    "history = model.fit(train_x, train_y, epochs=3, batch_size=30,validation_split=0.2,callbacks=[EarlyStopping(monitor='val_loss',patience=7, min_delta=0.0001)])"
   ]
  },
  {
   "cell_type": "markdown",
   "metadata": {},
   "source": [
    "## Testing"
   ]
  },
  {
   "cell_type": "code",
   "execution_count": 29,
   "metadata": {},
   "outputs": [
    {
     "name": "stdout",
     "output_type": "stream",
     "text": [
      "INFO:tensorflow:Restoring parameters from checkpoints\\sentiment.ckpt\n",
      "Test accuracy: 0.544\n"
     ]
    }
   ],
   "source": [
    "test_acc = []\n",
    "with tf.Session(graph=graph) as sess:\n",
    "    saver.restore(sess, tf.train.latest_checkpoint('checkpoints'))\n",
    "    test_state = sess.run(cell.zero_state(batch_size, tf.float32))\n",
    "    for ii, (x, y) in enumerate(get_batches(test_x, test_y, batch_size), 1):\n",
    "        feed = {inputs_: x,\n",
    "                labels_: y[:, :],\n",
    "                keep_prob: 1,\n",
    "                initial_state: test_state}\n",
    "        batch_acc, test_state = sess.run([accuracy, final_state], feed_dict=feed)\n",
    "        test_acc.append(batch_acc)\n",
    "    print(\"Test accuracy: {:.3f}\".format(np.mean(test_acc)))"
   ]
  },
  {
   "cell_type": "markdown",
   "metadata": {},
   "source": [
    "### Single case\n",
    "We can enter a actor name and the model will categorize whather it win was nominated or none. "
   ]
  },
  {
   "cell_type": "code",
   "execution_count": 58,
   "metadata": {},
   "outputs": [],
   "source": [
    "actor_n='Fay Bainter'\n",
    "page_py = wiki_wiki.page(actor_n)\n",
    "# Extracting the \"Career\" section and preprocessing the text.\n",
    "example_sent = preprocess(lemmatize_doc(str(page_py.section_by_title('Career')))) \n",
    "# Stop words\n",
    "section_py = ' '.join([w for w in example_sent.split() if not w in stop_words])    \n",
    "\n",
    "each = section_py\n",
    "\n",
    "career_ints = []\n",
    "\n",
    "if (each !='none' and each !='a' and  each !='nan'):\n",
    "    career_ints.append([vocab_to_int[word] for word in each.split()])\n",
    "else:\n",
    "    career_ints.append([0])\n",
    "\n",
    "features = np.zeros((len(career_ints), seq_len), dtype=int)\n",
    "row = career_ints\n",
    "\n",
    "for i, row in enumerate(career_ints):\n",
    "    features[i, -len(row):] = np.array(row)[:seq_len]\n",
    "\n",
    "samp = features[0,:].reshape(1,seq_len)\n",
    "test_x1=test_x[0:30]\n",
    "test_x1[0]=samp "
   ]
  },
  {
   "cell_type": "code",
   "execution_count": 59,
   "metadata": {},
   "outputs": [
    {
     "name": "stdout",
     "output_type": "stream",
     "text": [
      "INFO:tensorflow:Restoring parameters from checkpoints\\sentiment.ckpt\n",
      "Fay Bainter Nan\n"
     ]
    }
   ],
   "source": [
    " \n",
    "with tf.Session(graph=graph) as sess:\n",
    "    saver.restore(sess, tf.train.latest_checkpoint('checkpoints'))\n",
    "    test_state = sess.run(cell.zero_state(batch_size, tf.float32))\n",
    "     \n",
    " \n",
    "    feed = {inputs_: test_x1, \n",
    "                keep_prob: 1,\n",
    "                initial_state: test_state}\n",
    "    pred1  = sess.run([predictions ], feed_dict=feed)\n",
    " \n",
    "    print(actor_n,['Nom','Won','Nan'][np.where(pred1[0][0]==np.max(pred1[0][0]))[0][0]] ) "
   ]
  },
  {
   "cell_type": "markdown",
   "metadata": {
    "collapsed": true
   },
   "source": [
    "## Reflection\n",
    "\n",
    "The model performs better than I expected, I find that somehow suspicious! I would like to find out what are the main reasons for that high performance.  \n",
    "\n",
    "Optional sources that should be examined:  \n",
    " * The length of the article. I suspect that Oscar nomination and Oscar holders will have longer text. \n",
    " * The word 'nomination' (or other words) with all its variation might bias the text. \n",
    " * The metric that we choose together with the unbalanced labels might bias the results. The metric considers the performance of the model for the 3 categories. Perhaps a more focus metric will show a different result. \n",
    " * Comparing the performance to some baseline. For example, What will be the accuracy if all prediction is \"not nominated and not won\". \n",
    " \n",
    "### Improvements \n",
    " * The preprocessing was quite basic, there are other approaches for data preprocessing that can be used. \n",
    " * Larger data set will allow us to use the actual words instead of the roots. \n",
    " * Not all the possible articles where uploaded. Better data collection will increase the information in the dataset. \n",
    " * The model was quite simple, we can increase the number of hidden layers and the number of neurons. We can use other models.  \n",
    " * The cleaning of the data can be more sophisticated. We can easily remove words with very high or very low frequency. Some of the words in the articles are related to numbering the sections that can be removed. "
   ]
  },
  {
   "cell_type": "markdown",
   "metadata": {},
   "source": [
    "### Reference \n",
    "#### # Extracting the names of actors and the oscar nomination :  https://qxf2.com/blog/web-scraping-using-python/ , https://pypi.org/project/wikipedia/\n",
    "\n",
    "#### # Extracting the career : https://pypi.org/project/Wikipedia-API/0.2.0/\n",
    "#### # Model : https://github.com/udacity/deep-learning/blob/master/sentiment-rnn/Sentiment_RNN_Solution.ipynb"
   ]
  },
  {
   "cell_type": "code",
   "execution_count": null,
   "metadata": {
    "collapsed": true
   },
   "outputs": [],
   "source": []
  }
 ],
 "metadata": {
  "anaconda-cloud": {},
  "kernelspec": {
   "display_name": "Python [conda env:Anaconda3]",
   "language": "python",
   "name": "conda-env-Anaconda3-py"
  },
  "language_info": {
   "codemirror_mode": {
    "name": "ipython",
    "version": 3
   },
   "file_extension": ".py",
   "mimetype": "text/x-python",
   "name": "python",
   "nbconvert_exporter": "python",
   "pygments_lexer": "ipython3",
   "version": "3.5.6"
  }
 },
 "nbformat": 4,
 "nbformat_minor": 1
}
