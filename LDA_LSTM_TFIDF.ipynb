{
 "cells": [
  {
   "cell_type": "markdown",
   "metadata": {},
   "source": [
    "# Hollywood Actors \n",
    "###  Can we predict if an actor won the Oscar based on the career article in Wikipedia?\n",
    "\n",
    "Shmuel Naaman "
   ]
  },
  {
   "cell_type": "markdown",
   "metadata": {},
   "source": [
    "## Methods used for the analysis\n",
    "\n",
    "###  LSTM, Topic Extraction, Cosine Similarities, TfIdf\n"
   ]
  },
  {
   "cell_type": "markdown",
   "metadata": {},
   "source": [
    "### Introduction:\n",
    "#### Since the performance of the naive model is not satisfactory, here I try another approach that is more elegant. \n",
    "\n",
    "The main reason for the low performance of the naive model is the multi topics in the \"Holywood Actors\" Wikipedia articles. Some of the topics are not relevant to the target variable. Therefore introduces noise and reduce the performance. \n",
    "\n",
    "Here I try a different approach to improve the performance. The idea is to extract and identifies the main topics in the articles using unsupervised learning. That will allow us to choose only relevant input for the model.  \n",
    "\n",
    "I use the same list of actors that appears on 'Hollywood Walk of Fame motion picture stars' to choose articles. This is not a complete list but it includes most of the significant actors in the Hollywood industry. I also improve the articles extraction so most of the actors have articles. The list includes around 900 actors 200 of them were nominated to Oscar and another 350 won or nominated to an Oscar. \n",
    "\n",
    "\n",
    "#### The model classifies actors that won or nominated to the Oscar as one category and the other actors as the second category.\n",
    "\n",
    "#### Overview: \n",
    "\n",
    "I focus my efforts on efficient but basic preprocessing that will enhance the signal. \n",
    " * I perform basic cleaning of the data, remove numbers, stop words, tokenize words.\n",
    " * Latent Dirichlet allocation (LDA) and Non-Negative Matrix Factorization (NMF) is implemented to identifies 5 different topics in the articles.  \n",
    " * TfIdf and Cosine Similarities are used to identifies the 4 sentences in each document that are most relevant to the target variable \"Oscar\". \n",
    " * Only these 4 sentences will be used as input for the model. \n",
    " * I choose to use an artificial recurrent neural network (RNN) architecture of the type Long short-term memory (LSTM). LSTM networks are well-suited to classifying, processing and making predictions based on time series data.\n",
    " \n",
    "These steps allow me to reduce the dimension of the problem and obtain better results despite the relatively small dataset.  "
   ]
  },
  {
   "cell_type": "markdown",
   "metadata": {},
   "source": [
    "### importing libraries"
   ]
  },
  {
   "cell_type": "code",
   "execution_count": 1,
   "metadata": {
    "scrolled": true
   },
   "outputs": [],
   "source": [
    "import re\n",
    "import nltk\n",
    "import string \n",
    "import numpy as np\n",
    "import pandas as pd\n",
    "import wikipediaapi\n",
    "import wikipedia as wp\n",
    "import tensorflow as tf \n",
    "from collections import Counter\n",
    "from nltk import word_tokenize, pos_tag\n",
    "from nltk.tokenize import sent_tokenize\n",
    "from nltk.stem import WordNetLemmatizer\n",
    "from nltk.corpus import stopwords, wordnet\n",
    "from nltk.stem import LancasterStemmer\n",
    "from sklearn.metrics.pairwise import linear_kernel"
   ]
  },
  {
   "cell_type": "markdown",
   "metadata": {},
   "source": [
    "## Utils\n",
    "Optimally these functions would be in a separate file. However, since they include important steps of the analysis I decided to present them here with the rest of the analysis. \n"
   ]
  },
  {
   "cell_type": "markdown",
   "metadata": {},
   "source": [
    "### Clean the data\n",
    "\n",
    " * Remove the words 'section', 'subsections' and 'Career' since they are related to the article and not the actor. \n",
    " * The years in the articles were found to have a strong signal for the unsupervised learning, therefore, were removed.  \n",
    " * Use word_tokenize to reduce the dimension of the problem and strength the signal.  \n",
    " * That will simplify the dataset by reducing the dimension of the data. \n",
    " \n",
    " "
   ]
  },
  {
   "cell_type": "code",
   "execution_count": 2,
   "metadata": {},
   "outputs": [],
   "source": [
    "\n",
    "def preprocess(text):\n",
    "    # Replace punctuation with tokens so we can use them in our model \n",
    "    # We remove the word 'Oscar' from the article\n",
    "    # We did remove the words 'section' and 'Career' since they are related with the articale and not the actor\n",
    "    # There are many other preprocessing that worth considering here for example the work 'nomination' \n",
    "    # We want to keep it simple and at the same time to demonstrate the analysis\n",
    "    # section subsections career\n",
    " \n",
    "\n",
    "    text = text.lower()\n",
    "    text = text.replace('section', ' ')\n",
    "    text = text.replace('0', ' ')\n",
    "    text = text.replace('1', ' ')\n",
    "    text = text.replace('2', ' ')\n",
    "    text = text.replace('3', ' ')\n",
    "    text = text.replace('4', ' ')\n",
    "    text = text.replace('5', ' ')\n",
    "    text = text.replace('6', ' ')\n",
    "    text = text.replace('7', ' ')\n",
    "    text = text.replace('8', ' ')\n",
    "    text = text.replace('9', ' ')\n",
    "    text = text.replace('subsections', ' ')\n",
    "    text = text.replace('career', ' ')\n",
    " \n",
    "   \n",
    "\n",
    "    return  text\n",
    " "
   ]
  },
  {
   "cell_type": "code",
   "execution_count": 3,
   "metadata": {},
   "outputs": [
    {
     "name": "stderr",
     "output_type": "stream",
     "text": [
      "[nltk_data] Downloading package wordnet to C:\\Users\\Shmuel\n",
      "[nltk_data]     Naaman\\AppData\\Roaming\\nltk_data...\n",
      "[nltk_data]   Package wordnet is already up-to-date!\n",
      "[nltk_data] Downloading package stopwords to C:\\Users\\Shmuel\n",
      "[nltk_data]     Naaman\\AppData\\Roaming\\nltk_data...\n",
      "[nltk_data]   Package stopwords is already up-to-date!\n",
      "[nltk_data] Downloading package averaged_perceptron_tagger to\n",
      "[nltk_data]     C:\\Users\\Shmuel Naaman\\AppData\\Roaming\\nltk_data...\n",
      "[nltk_data]   Package averaged_perceptron_tagger is already up-to-\n",
      "[nltk_data]       date!\n",
      "[nltk_data] Downloading package maxent_treebank_pos_tagger to\n",
      "[nltk_data]     C:\\Users\\Shmuel Naaman\\AppData\\Roaming\\nltk_data...\n",
      "[nltk_data]   Package maxent_treebank_pos_tagger is already up-to-\n",
      "[nltk_data]       date!\n"
     ]
    }
   ],
   "source": [
    "\n",
    "# Import nltk resources\n",
    "resources = [\"wordnet\", \"stopwords\", \"punkt\", \\\n",
    "             \"averaged_perceptron_tagger\", \"maxent_treebank_pos_tagger\"]\n",
    "\n",
    "for resource in resources:\n",
    "    try:\n",
    "        nltk.data.find(\"tokenizers/\" + resource)\n",
    "    except LookupError:\n",
    "        nltk.download(resource)\n",
    "\n",
    "# Create Lemmatizer object\n",
    "lemma = WordNetLemmatizer()\n",
    "\n",
    "# Stem words\n",
    "def lemmatize_word(tagged_token):\n",
    "    \"\"\" Returns lemmatized word given its tag\"\"\"\n",
    "    root = []\n",
    "    for token in tagged_token:\n",
    "        tag = token[1][0]\n",
    "        word = token[0]\n",
    "        if tag.startswith('J'):\n",
    "            root.append(lemma.lemmatize(word, wordnet.ADJ))\n",
    "        elif tag.startswith('V'):\n",
    "            root.append(lemma.lemmatize(word, wordnet.VERB))\n",
    "        elif tag.startswith('N'):\n",
    "            root.append(lemma.lemmatize(word, wordnet.NOUN))\n",
    "        elif tag.startswith('R'):\n",
    "            root.append(lemma.lemmatize(word, wordnet.ADV))\n",
    "        else:          \n",
    "            root.append(word)\n",
    "    return root\n",
    "\n",
    "def lemmatize_doc(document):\n",
    "    \"\"\" Tags words then returns sentence with lemmatized words\"\"\"\n",
    "    lemmatized_list = []\n",
    "    # Break the paragraph into sentences\n",
    "    tokenized_sent = sent_tokenize(document)\n",
    "     \n",
    "    for sentence in tokenized_sent:\n",
    " \n",
    "        # Seperating sentences to words\n",
    "        tokenized_word = word_tokenize(sentence)\n",
    "         \n",
    "        # Identify nouns, verbs, adjectives, and adverbs.\n",
    "        tagged_token = pos_tag(tokenized_word)\n",
    "        \n",
    "        # Clasify to root word Text Normalization \"performing\" -> \"perform\"\n",
    "        lemmatized = lemmatize_word(tagged_token)\n",
    "        \n",
    "        #lemmatized=LancasterStemmer(tagged_token)\n",
    "        \n",
    "        # adding all the lists into a single list\n",
    "        lemmatized_list.extend(lemmatized)\n",
    " \n",
    "    return \" \".join(lemmatized_list)\n",
    "\n",
    " "
   ]
  },
  {
   "cell_type": "markdown",
   "metadata": {},
   "source": [
    "## Import list of Hollywood Actors names. \n",
    "Wikipedia page: \"List of actors with Hollywood Walk of Fame motion picture stars\".\n",
    "\n",
    "I used the ```wikipedia``` library and the ```pandas.read_html``` function which are both awesome and saves a lot of parsing work. "
   ]
  },
  {
   "cell_type": "code",
   "execution_count": 4,
   "metadata": {},
   "outputs": [],
   "source": [
    "# Get the html source\n",
    "html = wp.page(\"List_of_actors_with_Hollywood_Walk_of_Fame_motion_picture_stars\").html().encode(\"UTF-8\")\n",
    "\n",
    "#  find the table element, does the parsing and creates a DataFrame\n",
    "df = pd.read_html(html)[1]\n",
    "\n",
    "# Replace the header with the first row\n",
    "new_header = df.iloc[0] \n",
    "df = df[1:]  \n",
    "df.columns = new_header \n",
    "\n",
    "# ading a column for the careere \n",
    "df['career']='None' "
   ]
  },
  {
   "cell_type": "markdown",
   "metadata": {},
   "source": [
    "### Data Overview "
   ]
  },
  {
   "cell_type": "code",
   "execution_count": 5,
   "metadata": {},
   "outputs": [
    {
     "name": "stdout",
     "output_type": "stream",
     "text": [
      "<class 'pandas.core.frame.DataFrame'>\n",
      "RangeIndex: 899 entries, 1 to 899\n",
      "Data columns (total 10 columns):\n",
      "Actor       899 non-null object\n",
      "nan         899 non-null object\n",
      "Born        899 non-null object\n",
      "Died        899 non-null object\n",
      "Age         899 non-null object\n",
      "Address     899 non-null object\n",
      "Inducted    899 non-null object\n",
      "At age      899 non-null object\n",
      "Oscar       899 non-null object\n",
      "career      899 non-null object\n",
      "dtypes: object(10)\n",
      "memory usage: 70.3+ KB\n"
     ]
    }
   ],
   "source": [
    "df.info()"
   ]
  },
  {
   "cell_type": "code",
   "execution_count": 30,
   "metadata": {},
   "outputs": [
    {
     "name": "stdout",
     "output_type": "stream",
     "text": [
      "Populating the interactive namespace from numpy and matplotlib\n"
     ]
    },
    {
     "name": "stderr",
     "output_type": "stream",
     "text": [
      "C:\\Users\\Shmuel Naaman\\Anaconda3\\lib\\site-packages\\IPython\\core\\magics\\pylab.py:160: UserWarning: pylab import has clobbered these variables: ['time', 'e']\n",
      "`%matplotlib` prevents importing * from pylab and numpy\n",
      "  \"\\n`%matplotlib` prevents importing * from pylab and numpy\"\n"
     ]
    },
    {
     "data": {
      "text/html": [
       "<div>\n",
       "<style scoped>\n",
       "    .dataframe tbody tr th:only-of-type {\n",
       "        vertical-align: middle;\n",
       "    }\n",
       "\n",
       "    .dataframe tbody tr th {\n",
       "        vertical-align: top;\n",
       "    }\n",
       "\n",
       "    .dataframe thead th {\n",
       "        text-align: right;\n",
       "    }\n",
       "</style>\n",
       "<table border=\"1\" class=\"dataframe\">\n",
       "  <thead>\n",
       "    <tr style=\"text-align: right;\">\n",
       "      <th></th>\n",
       "      <th>Oscar</th>\n",
       "    </tr>\n",
       "    <tr>\n",
       "      <th>Oscar</th>\n",
       "      <th></th>\n",
       "    </tr>\n",
       "  </thead>\n",
       "  <tbody>\n",
       "    <tr>\n",
       "      <th>Nom</th>\n",
       "      <td>173</td>\n",
       "    </tr>\n",
       "    <tr>\n",
       "      <th>Won</th>\n",
       "      <td>176</td>\n",
       "    </tr>\n",
       "    <tr>\n",
       "      <th>~</th>\n",
       "      <td>550</td>\n",
       "    </tr>\n",
       "  </tbody>\n",
       "</table>\n",
       "</div>"
      ],
      "text/plain": [
       "0      Oscar\n",
       "Oscar       \n",
       "Nom      173\n",
       "Won      176\n",
       "~        550"
      ]
     },
     "execution_count": 30,
     "metadata": {},
     "output_type": "execute_result"
    },
    {
     "data": {
      "image/png": "[encoded data removed]",
      "text/plain": [
       "<Figure size 432x288 with 1 Axes>"
      ]
     },
     "metadata": {
      "needs_background": "light"
     },
     "output_type": "display_data"
    }
   ],
   "source": [
    "% pylab inline\n",
    "df.groupby([ 'Oscar'])[['Oscar']].count().plot(kind='bar').set_ylabel('Count')\n",
    "df.groupby(['Oscar' ])[['Oscar']].count()"
   ]
  },
  {
   "cell_type": "markdown",
   "metadata": {},
   "source": [
    "#### Figure 1: The 'Nomination' (Nom) and 'Won' are balanced but many actors are not in either of these categories. "
   ]
  },
  {
   "cell_type": "markdown",
   "metadata": {},
   "source": [
    "##  Import the actors 'Career' article. \n",
    " * Here we use \"wikipediaapi\" library to extract the 'Career' section for each actor article that appears in the list.  \n",
    " * It is important to note here that the preprocessing is perform as we reading the data. Hopefully, that will save processing time. "
   ]
  },
  {
   "cell_type": "markdown",
   "metadata": {},
   "source": [
    "* nltk sentance tokenizer. \n",
    "* tag words. \n",
    "* root on the original text. stanford nlp library. \n",
    "* stop words. "
   ]
  },
  {
   "cell_type": "code",
   "execution_count": 6,
   "metadata": {
    "scrolled": true
   },
   "outputs": [],
   "source": [
    "# Extracting the Career for each actor and adding them to the dataframe\n",
    " \n",
    "all_text=str([])\n",
    "\n",
    "stop_words = stopwords.words(\"english\")\n",
    "\n",
    "stop_words = [word.replace(\"\\'\", \"\") for word in stop_words]\n",
    "\n",
    "wiki_wiki = wikipediaapi.Wikipedia('en')\n",
    "\n",
    "docs = []\n",
    "\n",
    "for ind, actor_n in  enumerate(df.Actor ):\n",
    "    # Uploading the actor article.\n",
    "    page_py = wiki_wiki.page(actor_n)\n",
    "    \n",
    "    # Extracting the \"Career\" section and preprocessing the text.\n",
    "    example_sent =  preprocess(lemmatize_doc(str(page_py.section_by_title('Career'))))\n",
    "    \n",
    "    # If carrer is not present choose the first available option\n",
    "    if (example_sent=='none')& (page_py.sections!=[]):\n",
    "        example_sent = preprocess(lemmatize_doc(str(page_py.section_by_title(page_py.sections[0].title))))\n",
    "    \n",
    "    # Creating the bag of words    \n",
    "    docs.append(example_sent)\n",
    "    \n",
    "    # Procesed \"Career\" section added to the dataframe\n",
    "    df['career'].iloc[ind] = example_sent\n"
   ]
  },
  {
   "cell_type": "markdown",
   "metadata": {},
   "source": [
    "## Topic Extraction\n",
    "### Latent Dirichlet allocation (LDA) and Non-Negative Matrix Factorization (NMF) is implemented to identifies 5 different topics in the articles. "
   ]
  },
  {
   "cell_type": "code",
   "execution_count": 32,
   "metadata": {},
   "outputs": [
    {
     "name": "stdout",
     "output_type": "stream",
     "text": [
      "Loading dataset...\n",
      "done in 0.001s.\n",
      "Extracting tf-idf features for NMF...\n",
      "done in 16.898s.\n",
      "Extracting tf features for LDA...\n",
      "done in 19.193s.\n",
      "\n",
      "Fitting the NMF model (Frobenius norm) with tf-idf features, n_samples=2000 and n_features=2000...\n",
      "done in 0.828s.\n",
      "\n",
      "Topics in NMF model (Frobenius norm):\n",
      "Topic #0: stage broadway comedy lead production movie mgm actor act return studio york begin picture direct new york musical actress contract company\n",
      "Topic #1: school bear father early life mother family attend high school née parent high child university jewish college age brother york new york graduate\n",
      "Topic #2: award best win award best academy actress academy award nomination nominate performance supporting best supporting receive actor best actress globe golden globe academy award best golden drama\n",
      "Topic #3: episode series television season guest cbs abc nbc character tv western television series guest starred appearance portray starred cast sitcom drama appear episode\n",
      "Topic #4: million release gross comedy review worldwide gross million office box office box receive character drama video commercial action performance critic reprise role reprise\n",
      "\n",
      "Fitting the NMF model (generalized Kullback-Leibler divergence) with tf-idf features, n_samples=2000 and n_features=2000...\n",
      "done in 14.835s.\n",
      "\n",
      "Topics in NMF model (generalized Kullback-Leibler divergence):\n",
      "Topic #0: york young lead actor stage production actress movie broadway picture act begin debut return man screen new york comedy cast appearance\n",
      "Topic #1: bear school early life mother father family york parent young née son attend born high states child high school john united york city\n",
      "Topic #2: win award academy nominate best academy award supporting nomination golden best supporting award best series drama globe performance golden globe episode receive television voice\n",
      "Topic #3: television episode series run tv american abc nbc robert radio guest television series ii appearance world war ii war ii short pilot day character\n",
      "Topic #4: world say write use week company los comedy director set angeles box writer release stay los angeles interview provide year star home\n",
      "\n",
      "Fitting LDA models with tf features, n_samples=2000 and n_features=2000...\n",
      "done in 30.919s.\n",
      "\n",
      "Topics in LDA model:\n",
      "Topic #0: young school father bear robert born family mother american age child british attend early life york new york act university parent english\n",
      "Topic #1: comedy contract studio new york york barrymore picture opposite woman silent mgm fox begin stage debut actress feature release production sign\n",
      "Topic #2: award performance best receive comedy actress drama million character release review nomination win streep cast movie success golden write critic\n",
      "Topic #3: performance actor movie say production best lead receive award success director man return love theatre york direct character war broadway\n",
      "Topic #4: series television episode award movie best actor guest comedy character tv appearance broadway musical cast performance lead direct academy voice\n",
      "\n"
     ]
    }
   ],
   "source": [
    "from time import time\n",
    "\n",
    "from sklearn.feature_extraction.text import TfidfVectorizer, CountVectorizer\n",
    "from sklearn.decomposition import NMF, LatentDirichletAllocation\n",
    "from sklearn.datasets import fetch_20newsgroups\n",
    "\n",
    "n_samples = 2000\n",
    "n_features = 2000\n",
    "n_components = 5\n",
    "n_top_words = 20\n",
    "\n",
    "\n",
    "def print_top_words(model, feature_names, n_top_words):\n",
    "    for topic_idx, topic in enumerate(model.components_):\n",
    "        message = \"Topic #%d: \" % topic_idx\n",
    "        message += \" \".join([feature_names[i]\n",
    "                             for i in topic.argsort()[:-n_top_words - 1:-1]])\n",
    "        print(message)\n",
    "    print()\n",
    "\n",
    "print(\"Loading dataset...\")\n",
    "t0 = time()\n",
    " \n",
    "data_samples = docs\n",
    "print(\"done in %0.3fs.\" % (time() - t0))\n",
    "\n",
    "# Use tf-idf features for NMF.\n",
    "print(\"Extracting tf-idf features for NMF...\")\n",
    "tfidf_vectorizer = TfidfVectorizer(max_df=0.5, min_df=10, ngram_range=(1,3),\n",
    "                                   max_features=n_features,\n",
    "                                   stop_words='english')\n",
    "t0 = time()\n",
    "tfidf = tfidf_vectorizer.fit_transform(data_samples)\n",
    "print(\"done in %0.3fs.\" % (time() - t0))\n",
    "\n",
    "# Use tf (raw term count) features for LDA.\n",
    "print(\"Extracting tf features for LDA...\")\n",
    "tf_vectorizer = CountVectorizer(max_df=0.5, min_df=10,ngram_range=(1,3),\n",
    "                                max_features=n_features,\n",
    "                                stop_words='english')\n",
    "t0 = time()\n",
    "tf = tf_vectorizer.fit_transform(data_samples)\n",
    "print(\"done in %0.3fs.\" % (time() - t0))\n",
    "print()\n",
    "\n",
    "# Fit the NMF model\n",
    "print(\"Fitting the NMF model (Frobenius norm) with tf-idf features, \"\n",
    "      \"n_samples=%d and n_features=%d...\"\n",
    "      % (n_samples, n_features))\n",
    "t0 = time()\n",
    "nmf = NMF(n_components=n_components, random_state=1,\n",
    "          alpha=.1, l1_ratio=.5).fit(tfidf)\n",
    "print(\"done in %0.3fs.\" % (time() - t0))\n",
    "\n",
    "print(\"\\nTopics in NMF model (Frobenius norm):\")\n",
    "tfidf_feature_names = tfidf_vectorizer.get_feature_names()\n",
    "print_top_words(nmf, tfidf_feature_names, n_top_words)\n",
    "\n",
    "# Fit the NMF model\n",
    "print(\"Fitting the NMF model (generalized Kullback-Leibler divergence) with \"\n",
    "      \"tf-idf features, n_samples=%d and n_features=%d...\"\n",
    "      % (n_samples, n_features))\n",
    "t0 = time()\n",
    "nmf = NMF(n_components=n_components, random_state=1,\n",
    "          beta_loss='kullback-leibler', solver='mu', max_iter=1000, alpha=.1,\n",
    "          l1_ratio=.5).fit(tfidf)\n",
    "print(\"done in %0.3fs.\" % (time() - t0))\n",
    "\n",
    "print(\"\\nTopics in NMF model (generalized Kullback-Leibler divergence):\")\n",
    "tfidf_feature_names = tfidf_vectorizer.get_feature_names()\n",
    "print_top_words(nmf, tfidf_feature_names, n_top_words)\n",
    "\n",
    "print(\"Fitting LDA models with tf features, \"\n",
    "      \"n_samples=%d and n_features=%d...\"\n",
    "      % (n_samples, n_features))\n",
    "lda = LatentDirichletAllocation(n_components=n_components, max_iter=5,\n",
    "                                learning_method='online',\n",
    "                                learning_offset=50.,\n",
    "                                random_state=0)\n",
    "t0 = time()\n",
    "lda.fit(tf)\n",
    "print(\"done in %0.3fs.\" % (time() - t0))\n",
    "\n",
    "print(\"\\nTopics in LDA model:\")\n",
    "tf_feature_names = tf_vectorizer.get_feature_names()\n",
    "print_top_words(lda, tf_feature_names, n_top_words)"
   ]
  },
  {
   "cell_type": "markdown",
   "metadata": {},
   "source": [
    "### We choose Topic 2  for the NMF model (generalized Kullback-Leibler divergence) with tf-idf features\n",
    "#### Topic #2: award best win award best academy actress academy award nomination nominate performance supporting best supporting receive actor best actress globe golden globe academy award best golden drama\n",
    "\n",
    " "
   ]
  },
  {
   "cell_type": "markdown",
   "metadata": {},
   "source": [
    "## Choose the relevant sentances using cosine_similarities\n",
    "\n",
    "### Here we identify the 4 most similar sentancess to \"Topic 2\" in each article ( document) . These sentancess will be uploaded to a new column \"simila'. "
   ]
  },
  {
   "cell_type": "code",
   "execution_count": 11,
   "metadata": {},
   "outputs": [],
   "source": [
    "def simila(dafr):\n",
    "    sentence= 'award best award best win academy actress academy award nomination nominate supporting performance best supporting actor receive best actress globe academy award best golden globe golden best actor'\n",
    "\n",
    "    topic_1 = tf_vectorizer.transform([sentence]) \n",
    "    cosine_similarities =linear_kernel(topic_1, tf_vectorizer.transform(sent_tokenize(dafr ))).flatten() \n",
    "    list_top = []\n",
    " \n",
    "    for ind in cosine_similarities.argsort()[:-5:-1]:\n",
    "        list_top.append(sent_tokenize(dafr )[ind])\n",
    "         \n",
    "    return list_top\n",
    "        \n",
    "df['simila']=df['career'].apply(simila )    "
   ]
  },
  {
   "cell_type": "markdown",
   "metadata": {},
   "source": [
    "### Labels\n",
    "#### Using one hot encoding to labels categories"
   ]
  },
  {
   "cell_type": "code",
   "execution_count": 12,
   "metadata": {},
   "outputs": [],
   "source": [
    "columns = [  'Nom','won','non' ]\n",
    "labels =    pd.DataFrame(  columns=columns)\n",
    "\n",
    "\n",
    "labels[[ 'Nom','won','non']] =  pd.DataFrame(pd.get_dummies(df['Oscar']))"
   ]
  },
  {
   "cell_type": "code",
   "execution_count": 13,
   "metadata": {},
   "outputs": [
    {
     "data": {
      "text/html": [
       "<div>\n",
       "<style scoped>\n",
       "    .dataframe tbody tr th:only-of-type {\n",
       "        vertical-align: middle;\n",
       "    }\n",
       "\n",
       "    .dataframe tbody tr th {\n",
       "        vertical-align: top;\n",
       "    }\n",
       "\n",
       "    .dataframe thead th {\n",
       "        text-align: right;\n",
       "    }\n",
       "</style>\n",
       "<table border=\"1\" class=\"dataframe\">\n",
       "  <thead>\n",
       "    <tr style=\"text-align: right;\">\n",
       "      <th></th>\n",
       "      <th>non</th>\n",
       "      <th>Nomwon</th>\n",
       "    </tr>\n",
       "  </thead>\n",
       "  <tbody>\n",
       "    <tr>\n",
       "      <th>1</th>\n",
       "      <td>1</td>\n",
       "      <td>0</td>\n",
       "    </tr>\n",
       "    <tr>\n",
       "      <th>2</th>\n",
       "      <td>1</td>\n",
       "      <td>0</td>\n",
       "    </tr>\n",
       "    <tr>\n",
       "      <th>3</th>\n",
       "      <td>0</td>\n",
       "      <td>1</td>\n",
       "    </tr>\n",
       "    <tr>\n",
       "      <th>4</th>\n",
       "      <td>1</td>\n",
       "      <td>0</td>\n",
       "    </tr>\n",
       "    <tr>\n",
       "      <th>5</th>\n",
       "      <td>1</td>\n",
       "      <td>0</td>\n",
       "    </tr>\n",
       "  </tbody>\n",
       "</table>\n",
       "</div>"
      ],
      "text/plain": [
       "   non  Nomwon\n",
       "1    1       0\n",
       "2    1       0\n",
       "3    0       1\n",
       "4    1       0\n",
       "5    1       0"
      ]
     },
     "execution_count": 13,
     "metadata": {},
     "output_type": "execute_result"
    }
   ],
   "source": [
    "labels['Nomwon']= labels['Nom'] + labels['won'] \n",
    "labels=labels.drop(['Nom', 'won'], axis=1)\n",
    "labels.head( )"
   ]
  },
  {
   "cell_type": "markdown",
   "metadata": {},
   "source": [
    "### Encoding the words\n",
    "#### Each unique word in the 'bag of words' gets an integer. That will be used to encode the text in the data frame."
   ]
  },
  {
   "cell_type": "code",
   "execution_count": 14,
   "metadata": {},
   "outputs": [],
   "source": [
    "from sklearn.feature_extraction.text import CountVectorizer\n",
    "from sklearn.feature_extraction.text import TfidfTransformer\n",
    " \n",
    "cv=CountVectorizer(max_df=0.85, max_features=100000)\n",
    "\n",
    "word_count_vector=cv.fit_transform(docs)"
   ]
  },
  {
   "cell_type": "code",
   "execution_count": 35,
   "metadata": {},
   "outputs": [],
   "source": [
    "seq_len = 100\n",
    "sen_len = 25\n",
    "features = np.zeros((len(df), seq_len), dtype=int)\n",
    "career_ints = []\n",
    "sent_len = []\n",
    "for i, parag in enumerate(df['simila']  ):\n",
    "    for ii , sent in enumerate(parag) :\n",
    "         \n",
    "        if (sent !='none' and sent !='a' and  sent !='nan' and sent !=''):\n",
    "              \n",
    "            caree_var=[cv.vocabulary_[word] for word in sent.split()\n",
    "                                 if word in cv.vocabulary_.keys() ][0:25]\n",
    "            sent_len.append(len([cv.vocabulary_[word] for word in sent.split()\n",
    "                                 if word in cv.vocabulary_.keys() ]))  \n",
    "            features[i, ii*sen_len :ii*sen_len+len(caree_var)] = caree_var\n",
    "             \n",
    "        else:\n",
    "            caree_var=[cv.vocabulary_[word] for word in sent.split()\n",
    "                                 if word in cv.vocabulary_.keys() ][0:25]\n",
    "        career_ints.append(features[i,:])    \n",
    "            \n",
    " "
   ]
  },
  {
   "cell_type": "code",
   "execution_count": 34,
   "metadata": {},
   "outputs": [
    {
     "data": {
      "text/plain": [
       "1"
      ]
     },
     "execution_count": 34,
     "metadata": {},
     "output_type": "execute_result"
    }
   ],
   "source": [
    " "
   ]
  },
  {
   "cell_type": "code",
   "execution_count": 39,
   "metadata": {},
   "outputs": [
    {
     "name": "stdout",
     "output_type": "stream",
     "text": [
      "1 word-length sentance: 2\n",
      "Maximum review sentance: 155\n"
     ]
    }
   ],
   "source": [
    "review_lens = Counter([ x  for x in sent_len])\n",
    "print(\"1 word-length sentance: {}\".format(review_lens[1]))\n",
    "print(\"Maximum review sentance: {}\".format(max(review_lens)))"
   ]
  },
  {
   "cell_type": "code",
   "execution_count": 40,
   "metadata": {},
   "outputs": [
    {
     "data": {
      "text/html": [
       "<div>\n",
       "<style scoped>\n",
       "    .dataframe tbody tr th:only-of-type {\n",
       "        vertical-align: middle;\n",
       "    }\n",
       "\n",
       "    .dataframe tbody tr th {\n",
       "        vertical-align: top;\n",
       "    }\n",
       "\n",
       "    .dataframe thead th {\n",
       "        text-align: right;\n",
       "    }\n",
       "</style>\n",
       "<table border=\"1\" class=\"dataframe\">\n",
       "  <thead>\n",
       "    <tr style=\"text-align: right;\">\n",
       "      <th></th>\n",
       "      <th>0</th>\n",
       "    </tr>\n",
       "  </thead>\n",
       "  <tbody>\n",
       "    <tr>\n",
       "      <th>count</th>\n",
       "      <td>3384.000000</td>\n",
       "    </tr>\n",
       "    <tr>\n",
       "      <th>mean</th>\n",
       "      <td>18.344267</td>\n",
       "    </tr>\n",
       "    <tr>\n",
       "      <th>std</th>\n",
       "      <td>13.683750</td>\n",
       "    </tr>\n",
       "    <tr>\n",
       "      <th>min</th>\n",
       "      <td>0.000000</td>\n",
       "    </tr>\n",
       "    <tr>\n",
       "      <th>25%</th>\n",
       "      <td>10.000000</td>\n",
       "    </tr>\n",
       "    <tr>\n",
       "      <th>50%</th>\n",
       "      <td>16.000000</td>\n",
       "    </tr>\n",
       "    <tr>\n",
       "      <th>75%</th>\n",
       "      <td>24.000000</td>\n",
       "    </tr>\n",
       "    <tr>\n",
       "      <th>max</th>\n",
       "      <td>155.000000</td>\n",
       "    </tr>\n",
       "  </tbody>\n",
       "</table>\n",
       "</div>"
      ],
      "text/plain": [
       "                 0\n",
       "count  3384.000000\n",
       "mean     18.344267\n",
       "std      13.683750\n",
       "min       0.000000\n",
       "25%      10.000000\n",
       "50%      16.000000\n",
       "75%      24.000000\n",
       "max     155.000000"
      ]
     },
     "execution_count": 40,
     "metadata": {},
     "output_type": "execute_result"
    },
    {
     "data": {
      "image/png": "[encoded data removed]",
      "text/plain": [
       "<Figure size 432x288 with 1 Axes>"
      ]
     },
     "metadata": {
      "needs_background": "light"
     },
     "output_type": "display_data"
    }
   ],
   "source": [
    "import pylab as pl\n",
    "#pd.DataFrame.from_dict(  review_lens ) \n",
    "review_le = ([ x for x in sent_len])\n",
    "review_df = pd.DataFrame(review_le)\n",
    "\n",
    "review_df.hist(bins = 20) \n",
    "pl.xlabel('Number of words')\n",
    "pl.ylabel('Number of samples')\n",
    "pl.title('distribution of Number of words in sentance')\n",
    "pd.DataFrame(review_df.describe())"
   ]
  },
  {
   "cell_type": "markdown",
   "metadata": {},
   "source": [
    "### Prepare the data for the model\n",
    "### Training, Validation, Test\n"
   ]
  },
  {
   "cell_type": "code",
   "execution_count": 18,
   "metadata": {},
   "outputs": [
    {
     "name": "stdout",
     "output_type": "stream",
     "text": [
      "\t\t\tFeature Shapes:\n",
      "Train set: \t\t(719, 100) \n",
      "Validation set: \t(90, 100) \n",
      "Test set: \t\t(90, 100) \n",
      "Test set: \t\t(90, 2) \n",
      "Validation set: \t(90, 2) \n",
      "Train set: \t\t(719, 2)\n"
     ]
    }
   ],
   "source": [
    "#Can be replace with train test split\n",
    "\n",
    "split_frac = 0.8\n",
    "split_idx = int(len(features)*0.8)\n",
    "train_x, val_x = features[:split_idx], features[split_idx:]\n",
    "train_y, val_y = labels.values[:split_idx ], labels.values[split_idx: ]\n",
    "\n",
    "test_idx = int(len(val_x)*0.5)\n",
    "val_x, test_x = val_x[:test_idx], val_x[test_idx:]\n",
    "val_y, test_y = val_y[:test_idx], val_y[test_idx:]\n",
    "\n",
    "print(\"\\t\\t\\tFeature Shapes:\")\n",
    "print(\"Train set: \\t\\t{}\".format(train_x.shape), \n",
    "      \"\\nValidation set: \\t{}\".format(val_x.shape),\n",
    "      \"\\nTest set: \\t\\t{}\".format(test_x.shape),\n",
    "      \"\\nTest set: \\t\\t{}\".format(test_y.shape),\n",
    "     \"\\nValidation set: \\t{}\".format(val_y.shape),\n",
    "     \"\\nTrain set: \\t\\t{}\".format(train_y.shape))\n",
    "\n",
    " "
   ]
  },
  {
   "cell_type": "markdown",
   "metadata": {},
   "source": [
    "## Build the graph\n",
    "\n",
    "### Hyperparameters Defining.\n",
    "\n",
    "* `lstm_size`: Number of units in the hidden layers in the LSTM cells. \n",
    "* `lstm_layers`: Number of LSTM layers in the network.\n",
    "* `batch_size`: The number of articles to feed the network in one training pass.  \n",
    "* `learning_rate`: Learning rate"
   ]
  },
  {
   "cell_type": "code",
   "execution_count": 27,
   "metadata": {},
   "outputs": [],
   "source": [
    "import tensorflow as tf \n",
    "#tf.reset_default_graph()"
   ]
  },
  {
   "cell_type": "markdown",
   "metadata": {},
   "source": [
    "For the network itself, we'll be passing in 300 words long vectors. Each batch will be batch_size vectors. We'll also be using dropout on the LSTM layer, so we'll make a placeholder for the keep probability.\n",
    "\n",
    "### Embedding\n",
    "\n",
    "Now we'll add an embedding layer. We need to do this because it is inefficient to one-hot encode our classes here. Instead of one-hot encoding, we can have an embedding layer and use that layer as a lookup table. It is also possible to train an embedding layer using word2vec, then load it here. \n",
    "\n",
    "\n",
    "### LSTM cell\n",
    "\n",
    " \n",
    "Next, we'll create our LSTM cells to use in the recurrent network ([TensorFlow documentation](https://www.tensorflow.org/api_docs/python/tf/contrib/rnn)). \n",
    "\n",
    "To create a basic LSTM cell for the graph, we'll   use `tf.contrib.rnn.BasicLSTMCell`.\n",
    "\n",
    "```\n",
    "tf.contrib.rnn.BasicLSTMCell(num_units, forget_bias=1.0, input_size=None, state_is_tuple=True, activation=<function tanh at 0x109f1ef28>)\n",
    "```\n",
    "\n",
    "BasicLSTMCell   takes a parameter `num_units`, the number of units in the cell (`lstm_size`).  \n",
    "\n",
    " \n",
    "\n",
    "Next, we add dropout to the cell with `tf.contrib.rnn.DropoutWrapper`. This just wraps the cell in another cell, but with dropout added to the inputs and/or outputs. It's a really convenient way to make the network better with almost no effort! \n",
    "\n",
    "\n",
    "The network will have better performance with more layers. Adding more layers allows the network to learn complex relationships. A simple way to create multiple layers of LSTM cells with `tf.contrib.rnn.MultiRNNCell`:\n",
    "\n",
    "```\n",
    "cell = tf.contrib.rnn.MultiRNNCell([drop] * lstm_layers)\n",
    "```\n",
    "\n",
    "Here, `[drop] * lstm_layers` creates a list of cells (`drop`) that is `lstm_layers` long. The `MultiRNNCell` wrapper builds this into multiple layers of RNN cells, one for each cell in the list.\n",
    "\n",
    "So the final cell we're using in the network is actually multiple  LSTM cells with dropout. But it all works the same from an architectural viewpoint, just a more complicated graph in the cell.\n",
    "\n",
    " \n",
    " \n",
    "### RNN forward pass\n",
    "Now we need to actually run the data through the RNN nodes. We use tf.nn.dynamic_rnn to do this. We pass in the RNN cell you created (our multiple layered LSTM cell for instance), and the inputs to the network.\n",
    "outputs, final_state = tf.nn.dynamic_rnn(cell, inputs, initial_state=initial_state)\n",
    "Above I created an initial state, initial_state, to pass to the RNN. This is the cell state that is passed between the hidden layers in successive time steps. tf.nn.dynamic_rnn takes care of most of the work for us. We pass in our cell and the input to the cell, then it does the unrolling and everything else for us. It returns outputs for each time step and the final_state of the hidden layer.\n",
    "\n",
    "\n",
    "### Output\n",
    "#### Training Cost\n",
    "We only care about the final output, we'll be using that as our prediction. So we need to grab the last output with `outputs[:, -1]`, the calculate the cost from that and `labels_`. Since we have more than 2 labels it is important to use the softmax_cross_entropy.\n",
    "\n",
    "#### Validation accuracy\n",
    "Here we   calculate the accuracy which I'll use in the validation pass.\n",
    "\n",
    "#### Batching\n",
    "This function returning batches from our data. First it removes data such that we only have full batches. Then it iterates through the x and y arrays and returns slices out of those arrays with size [batch_size]."
   ]
  },
  {
   "cell_type": "code",
   "execution_count": 28,
   "metadata": {},
   "outputs": [],
   "source": [
    " \n",
    "lstm_size = 256\n",
    "#num_units = [128, 64 ]\n",
    "#lstm_layers = 2\n",
    "num_units = [128 ]\n",
    "lstm_layers = 1\n",
    "batch_size = 30\n",
    "learning_rate = 0.001\n",
    "NUM_CLASSES = 2\n",
    "epochs = 3\n",
    "keep_prob = 0.5\n",
    "embed_size = 50  \n",
    "#seq_len = 80\n",
    "n_words = len(cv.vocabulary_)+ 1 # Adding 1 because we use 0's for padding, dictionary started at 1\n",
    "\n",
    "# Create the graph object\n",
    "graph = tf.Graph()\n",
    "# Add nodes to the graph\n",
    "with graph.as_default():\n",
    "    inputs_ = tf.placeholder(tf.int32, [None, None], name='inputs')\n",
    "    labels_ = tf.placeholder(tf.int32, [None, None], name='labels')\n",
    "    keep_prob = tf.placeholder(tf.float32, name='keep_prob')\n",
    "\n",
    "with graph.as_default():\n",
    "    embedding = tf.Variable(tf.random_uniform((n_words, embed_size), -1, 1))\n",
    "    embed = tf.nn.embedding_lookup(embedding, inputs_)\n",
    "    \n",
    "with graph.as_default():\n",
    "    # Basic LSTM cell\n",
    " \n",
    "    lstm = [ tf.contrib.rnn.DropoutWrapper(tf.contrib.rnn.BasicLSTMCell(num_units=n), \n",
    "                                           output_keep_prob=keep_prob) for n in num_units]\n",
    "    cell = tf.contrib.rnn.MultiRNNCell(lstm)\n",
    "  \n",
    " \n",
    "\n",
    "    initial_state = cell.zero_state(  batch_size , tf.float32)\n",
    "# RNN forward pass\n",
    "with graph.as_default():\n",
    "    outputs, final_state = tf.nn.dynamic_rnn(cell, embed,\n",
    "                                             initial_state=initial_state)\n",
    "    \n",
    "# Output Training Cost\n",
    "with graph.as_default():\n",
    "    predictions = tf.contrib.layers.fully_connected(outputs[:, -1], NUM_CLASSES, \n",
    "                                                    activation_fn=tf.sigmoid)\n",
    "    # For multi output\n",
    "    cost = tf.reduce_mean(tf.nn.softmax_cross_entropy_with_logits_v2(labels=labels_, logits=predictions))\n",
    "    # For binarry output \n",
    "    # cost = tf.losses.mean_squared_error(labels_, predictions)\n",
    "    \n",
    "    optimizer = tf.train.AdamOptimizer(learning_rate).minimize(cost)\n",
    "    \n",
    "# Validation, \n",
    "with graph.as_default():\n",
    "    # For binarry output \n",
    "    # correct_pred = tf.equal(tf.cast(tf.round(predictions), tf.int32), labels_)\n",
    "    # accuracy = tf.reduce_mean(tf.cast(correct_pred, tf.float32))\n",
    "    \n",
    "    # For multi output  \n",
    "    correct_pred = tf.equal(tf.argmax(predictions, 1), tf.argmax(labels_, 1))\n",
    "\n",
    "    accuracy = tf.reduce_mean(tf.cast(correct_pred, tf.float32)) \n",
    "    \n",
    "# Batching \n",
    "def get_batches(x, y, batch_size=batch_size):\n",
    "    \n",
    "    n_batches = len(x)//batch_size\n",
    "    x, y = x[:n_batches*batch_size], y[:n_batches*batch_size]\n",
    "    for ii in range(0, len(x), batch_size):\n",
    "        yield x[ii:ii+batch_size], y[ii:ii+batch_size]"
   ]
  },
  {
   "cell_type": "markdown",
   "metadata": {},
   "source": [
    "## Training\n",
    "\n",
    "Below is the training code. "
   ]
  },
  {
   "cell_type": "code",
   "execution_count": 29,
   "metadata": {},
   "outputs": [
    {
     "name": "stdout",
     "output_type": "stream",
     "text": [
      "Epoch: 0/3 Iteration: 5 Train loss: 0.686\n",
      "Epoch: 0/3 Iteration: 10 Train loss: 0.510\n",
      "Epoch: 0/3 Iteration: 15 Train loss: 0.761\n",
      "Epoch: 0/3 Iteration: 20 Train loss: 0.716\n",
      "Epoch: 1/3 Iteration: 25 Train loss: 0.610\n",
      "Val acc: 0.656\n",
      "Epoch: 1/3 Iteration: 30 Train loss: 0.633\n",
      "Epoch: 1/3 Iteration: 35 Train loss: 0.687\n",
      "Epoch: 1/3 Iteration: 40 Train loss: 0.610\n",
      "Epoch: 1/3 Iteration: 45 Train loss: 0.635\n",
      "Epoch: 2/3 Iteration: 50 Train loss: 0.547\n",
      "Val acc: 0.711\n",
      "Epoch: 2/3 Iteration: 55 Train loss: 0.688\n",
      "Epoch: 2/3 Iteration: 60 Train loss: 0.678\n",
      "Epoch: 2/3 Iteration: 65 Train loss: 0.633\n"
     ]
    }
   ],
   "source": [
    "\n",
    "with graph.as_default():\n",
    "    saver = tf.train.Saver()\n",
    "\n",
    "with tf.Session(graph=graph) as sess:\n",
    "    sess.run(tf.global_variables_initializer())\n",
    "    iteration = 1\n",
    "    for e in range(epochs):\n",
    "        state = sess.run(initial_state)\n",
    "        \n",
    "        for ii, (x, y) in enumerate(get_batches(train_x, train_y, batch_size), 1):\n",
    "            feed = {inputs_: x,\n",
    "                    labels_: y[:, :],\n",
    "                    keep_prob: 0.7,\n",
    "                    initial_state: state}\n",
    "            loss, state, _ = sess.run([cost, final_state, optimizer], feed_dict=feed)\n",
    "            \n",
    "            if iteration%5==0:\n",
    "                print(\"Epoch: {}/{}\".format(e, epochs),\n",
    "                      \"Iteration: {}\".format(iteration),\n",
    "                      \"Train loss: {:.3f}\".format(loss))\n",
    "\n",
    "            if iteration%25==0:\n",
    "                val_acc = []\n",
    "                val_state = sess.run(cell.zero_state(batch_size, tf.float32))\n",
    "                for x, y in get_batches(val_x, val_y, batch_size):\n",
    "                    feed = {inputs_: x,\n",
    "                            labels_: y[:,:],\n",
    "                            keep_prob: 1,\n",
    "                            initial_state: val_state}\n",
    "                    batch_acc, val_state = sess.run([accuracy, final_state], feed_dict=feed)\n",
    "                    val_acc.append(batch_acc)\n",
    "             \n",
    "                print(\"Val acc: {:.3f}\".format(np.mean(val_acc)))\n",
    "            iteration +=1\n",
    "    saver.save(sess, \"checkpoints/sentiment.ckpt\")"
   ]
  },
  {
   "cell_type": "code",
   "execution_count": null,
   "metadata": {},
   "outputs": [],
   "source": []
  },
  {
   "cell_type": "code",
   "execution_count": null,
   "metadata": {},
   "outputs": [],
   "source": []
  },
  {
   "cell_type": "code",
   "execution_count": null,
   "metadata": {},
   "outputs": [],
   "source": []
  },
  {
   "cell_type": "code",
   "execution_count": null,
   "metadata": {},
   "outputs": [],
   "source": []
  },
  {
   "cell_type": "code",
   "execution_count": null,
   "metadata": {},
   "outputs": [],
   "source": []
  },
  {
   "cell_type": "code",
   "execution_count": null,
   "metadata": {},
   "outputs": [],
   "source": []
  },
  {
   "cell_type": "code",
   "execution_count": null,
   "metadata": {},
   "outputs": [],
   "source": []
  },
  {
   "cell_type": "code",
   "execution_count": null,
   "metadata": {},
   "outputs": [],
   "source": []
  },
  {
   "cell_type": "code",
   "execution_count": null,
   "metadata": {},
   "outputs": [],
   "source": []
  },
  {
   "cell_type": "code",
   "execution_count": null,
   "metadata": {},
   "outputs": [],
   "source": []
  }
 ],
 "metadata": {
  "anaconda-cloud": {},
  "kernelspec": {
   "display_name": "Python [conda env:Anaconda3]",
   "language": "python",
   "name": "conda-env-Anaconda3-py"
  },
  "language_info": {
   "codemirror_mode": {
    "name": "ipython",
    "version": 3
   },
   "file_extension": ".py",
   "mimetype": "text/x-python",
   "name": "python",
   "nbconvert_exporter": "python",
   "pygments_lexer": "ipython3",
   "version": "3.5.6"
  }
 },
 "nbformat": 4,
 "nbformat_minor": 1
}
